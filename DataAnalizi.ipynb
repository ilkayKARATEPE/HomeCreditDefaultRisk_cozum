{
 "cells": [
  {
   "cell_type": "markdown",
   "metadata": {
    "collapsed": true,
    "pycharm": {
     "name": "#%% md\n"
    }
   },
   "source": [
    "## <font color='#BF4E51'>Verinin Analizi - Tabloların Yorulanması ve Birleştirilmesi - Aykırı Gözlemlerin Değerlendirilmesi </font>\n",
    "#### Amacımız bir başvuru sahibinin krediyi geri ödeyip ödeyemeyeceğini \n",
    "#### tahmin etmek için geçmiş kredi başvuru verilerini kullanmaktır.\n",
    "### <font color='#3A9CA1'>•••••••••••••••••••••••••••••••••••••••••••••••••••••••••••••••••••••••••••••••••••••••••••••••••••••••••••••</font>\n",
    "#### tahmin edilecek kolon 'TARGET' kolonudur. Bu kolon application_train tablosunda bulunur.\n",
    "#### TARGET 0 veya 1 değerini alır. 0: geri ödendiği 1: geri ödenmediği anlamına gelir\n",
    "#### bu değer train datasında bilindiği için 0 veya 1 dir.\n",
    "#### application_test tablosunda ilgili kısmı tahmin etmeye çalışacağız.\n",
    "### <font color='#3A9CA1'>•••••••••••••••••••••••••••••••••••••••••••••••••••••••••••••••••••••••••••••••••••••••••••••••••••••••••••••</font>\n",
    "#### Kullandığım dataset kaggle da bir yarışmada sunulan Home Credit Group \n",
    "#### isimli finas şirketinin verileridir.\n",
    "### <font color='#3A9CA1'>•••••••••••••••••••••••••••••••••••••••••••••••••••••••••••••••••••••••••••••••••••••••••••••••••••••••••••••</font>\n",
    "#### İkisi application(test ve train) olmak üzere toplam 8 adet tablo bulunmaktadır.\n",
    "#### ayrıca tüm tablolardaki kolonların bilgisini kısmen açıklayan 'HomeCredit_columns_description' isimli\n",
    "#### bir adet tablo daha vardır\n",
    "#### asıl üstünde çalışılacak tablo 'application_' tablosudur. Diğer tabloları yeri geldikçe anlatmaya çalışacağım\n",
    "#### Kredilerin kimlikleri (\"SK_ID_PREV\" ve \"SK_ID_CURR\") birincil anahtarlarıdır, \n",
    "#### tablolar bu anahtarlarla birbirine bağlanır.\n",
    "### <font color='#3A9CA1'>•••••••••••••••••••••••••••••••••••••••••••••••••••••••••••••••••••••••••••••••••••••••••••••••••••••••••••••</font>\n",
    "#### verinin analizi ve finansal bilgi gerektiği yerlerde burdaki çözümden yararlandım\n",
    "<a>https://www.kaggle.com/jsaguiar/lightgbm-with-simple-features/code</a>"
   ]
  },
  {
   "cell_type": "code",
   "source": [
    "#garbage collection kaynak yönetimi için kullanılacak\n",
    "#bellek yönetimi işleminde kullanılmaktadır\n",
    "import gc\n",
    "import warnings\n",
    "from pathlib import Path\n",
    "\n",
    "import numpy as np\n",
    "import pandas as pd\n",
    "import matplotlib.pyplot as plt\n",
    "\n",
    "from sklearn.preprocessing import LabelEncoder\n",
    "\n",
    "\n",
    "warnings.filterwarnings('ignore')"
   ],
   "metadata": {
    "collapsed": false,
    "pycharm": {
     "name": "#%%\n",
     "is_executing": false
    }
   },
   "execution_count": 1,
   "outputs": []
  },
  {
   "cell_type": "code",
   "execution_count": 2,
   "outputs": [
    {
     "name": "stdout",
     "text": [
      "Train data boyutu: (307511, 122), Test data boyutu: (48744, 121)\n"
     ],
     "output_type": "stream"
    }
   ],
   "source": [
    "# başvuruların olduğu application datasını dataframe e dönüştürelim \n",
    "app_train = pd.read_csv(Path(\"data/application_train.csv\"))\n",
    "app_test = pd.read_csv(Path(\"data/application_test.csv\"))\n",
    "print('Train data boyutu: {}, Test data boyutu: {}'.format( app_train.shape,app_test.shape))"
   ],
   "metadata": {
    "collapsed": false,
    "pycharm": {
     "name": "#%%\n",
     "is_executing": false
    }
   }
  },
  {
   "cell_type": "code",
   "execution_count": 3,
   "outputs": [
    {
     "data": {
      "text/plain": "          AMT_ANNUITY    AMT_CREDIT  AMT_GOODS_PRICE  AMT_INCOME_TOTAL  \\\ncount   356219.000000  3.562550e+05     3.559770e+05      3.562550e+05   \nunique            NaN           NaN              NaN               NaN   \ntop               NaN           NaN              NaN               NaN   \nfreq              NaN           NaN              NaN               NaN   \nmean     27425.560657  5.877674e+05     5.280200e+05      1.701161e+05   \nstd      14732.808190  3.986237e+05     3.660650e+05      2.235068e+05   \nmin       1615.500000  4.500000e+04     4.050000e+04      2.565000e+04   \n25%      16731.000000  2.700000e+05     2.340000e+05      1.125000e+05   \n50%      25078.500000  5.002110e+05     4.500000e+05      1.530000e+05   \n75%      34960.500000  7.975575e+05     6.750000e+05      2.025000e+05   \nmax     258025.500000  4.050000e+06     4.050000e+06      1.170000e+08   \n\n        AMT_REQ_CREDIT_BUREAU_DAY  AMT_REQ_CREDIT_BUREAU_HOUR  \\\ncount               308687.000000               308687.000000   \nunique                        NaN                         NaN   \ntop                           NaN                         NaN   \nfreq                          NaN                         NaN   \nmean                     0.006281                    0.005808   \nstd                      0.104250                    0.079736   \nmin                      0.000000                    0.000000   \n25%                      0.000000                    0.000000   \n50%                      0.000000                    0.000000   \n75%                      0.000000                    0.000000   \nmax                      9.000000                    4.000000   \n\n        AMT_REQ_CREDIT_BUREAU_MON  AMT_REQ_CREDIT_BUREAU_QRT  \\\ncount               308687.000000              308687.000000   \nunique                        NaN                        NaN   \ntop                           NaN                        NaN   \nfreq                          NaN                        NaN   \nmean                     0.231697                   0.304399   \nstd                      0.855949                   0.786915   \nmin                      0.000000                   0.000000   \n25%                      0.000000                   0.000000   \n50%                      0.000000                   0.000000   \n75%                      0.000000                   0.000000   \nmax                     27.000000                 261.000000   \n\n        AMT_REQ_CREDIT_BUREAU_WEEK  AMT_REQ_CREDIT_BUREAU_YEAR  \\\ncount                308687.000000               308687.000000   \nunique                         NaN                         NaN   \ntop                            NaN                         NaN   \nfreq                           NaN                         NaN   \nmean                      0.029995                    1.911564   \nstd                       0.191374                    1.865338   \nmin                       0.000000                    0.000000   \n25%                       0.000000                    0.000000   \n50%                       0.000000                    1.000000   \n75%                       0.000000                    3.000000   \nmax                       8.000000                   25.000000   \n\n        APARTMENTS_AVG  APARTMENTS_MEDI  APARTMENTS_MODE  BASEMENTAREA_AVG  \\\ncount    176307.000000    176307.000000    176307.000000     148671.000000   \nunique             NaN              NaN              NaN               NaN   \ntop                NaN              NaN              NaN               NaN   \nfreq               NaN              NaN              NaN               NaN   \nmean          0.118138         0.118549         0.114914          0.088673   \nstd           0.108954         0.109824         0.108745          0.082312   \nmin           0.000000         0.000000         0.000000          0.000000   \n25%           0.057700         0.058300         0.052500          0.044500   \n50%           0.088000         0.087400         0.084000          0.076500   \n75%           0.148500         0.149400         0.146000          0.112300   \nmax           1.000000         1.000000         1.000000          1.000000   \n\n        BASEMENTAREA_MEDI  BASEMENTAREA_MODE   CNT_CHILDREN  CNT_FAM_MEMBERS  \\\ncount       148671.000000      148671.000000  356255.000000    356253.000000   \nunique                NaN                NaN            NaN              NaN   \ntop                   NaN                NaN            NaN              NaN   \nfreq                  NaN                NaN            NaN              NaN   \nmean             0.088178           0.087750       0.414316         2.151858   \nstd              0.082017           0.084076       0.720378         0.907937   \nmin              0.000000           0.000000       0.000000         1.000000   \n25%              0.044100           0.041000       0.000000         2.000000   \n50%              0.076100           0.074900       0.000000         2.000000   \n75%              0.111800           0.112700       1.000000         3.000000   \nmax              1.000000           1.000000      20.000000        21.000000   \n\n       CODE_GENDER  COMMONAREA_AVG  COMMONAREA_MEDI  COMMONAREA_MODE  \\\ncount       356255   107895.000000    107895.000000    107895.000000   \nunique           3             NaN              NaN              NaN   \ntop              F             NaN              NaN              NaN   \nfreq        235126             NaN              NaN              NaN   \nmean           NaN        0.045045         0.044994         0.042930   \nstd            NaN        0.077045         0.077140         0.075437   \nmin            NaN        0.000000         0.000000         0.000000   \n25%            NaN        0.007900         0.007900         0.007300   \n50%            NaN        0.021300         0.021000         0.019200   \n75%            NaN        0.051900         0.051800         0.049300   \nmax            NaN        1.000000         1.000000         1.000000   \n\n           DAYS_BIRTH  DAYS_EMPLOYED  DAYS_ID_PUBLISH  DAYS_LAST_PHONE_CHANGE  \\\ncount   356255.000000  356255.000000    356255.000000           356254.000000   \nunique            NaN            NaN              NaN                     NaN   \ntop               NaN            NaN              NaN                     NaN   \nfreq              NaN            NaN              NaN                     NaN   \nmean    -16041.248841   64317.231413     -3002.071163             -978.580852   \nstd       4358.803980  141705.532576      1517.901735              835.063902   \nmin     -25229.000000  -17912.000000     -7197.000000            -4361.000000   \n25%     -19676.000000   -2781.000000     -4318.000000            -1592.000000   \n50%     -15755.000000   -1224.000000     -3252.000000             -771.000000   \n75%     -12425.000000    -290.000000     -1717.000000             -286.000000   \nmax      -7338.000000  365243.000000         0.000000                0.000000   \n\n        DAYS_REGISTRATION  DEF_30_CNT_SOCIAL_CIRCLE  DEF_60_CNT_SOCIAL_CIRCLE  \\\ncount       356255.000000             355205.000000             355205.000000   \nunique                NaN                       NaN                       NaN   \ntop                   NaN                       NaN                       NaN   \nfreq                  NaN                       NaN                       NaN   \nmean         -4983.593527                  0.143452                  0.100198   \nstd           3526.968986                  0.456579                  0.368259   \nmin         -24672.000000                  0.000000                  0.000000   \n25%          -7477.000000                  0.000000                  0.000000   \n50%          -4502.000000                  0.000000                  0.000000   \n75%          -1995.000000                  0.000000                  0.000000   \nmax              0.000000                 34.000000                 24.000000   \n\n        ELEVATORS_AVG  ELEVATORS_MEDI  ELEVATORS_MODE EMERGENCYSTATE_MODE  \\\ncount   167175.000000   167175.000000   167175.000000              188291   \nunique            NaN             NaN             NaN                   2   \ntop               NaN             NaN             NaN                  No   \nfreq              NaN             NaN             NaN              185607   \nmean         0.079819        0.078930        0.075346                 NaN   \nstd          0.135249        0.135133        0.133025                 NaN   \nmin          0.000000        0.000000        0.000000                 NaN   \n25%          0.000000        0.000000        0.000000                 NaN   \n50%          0.000000        0.000000        0.000000                 NaN   \n75%          0.120000        0.120000        0.120800                 NaN   \nmax          1.000000        1.000000        1.000000                 NaN   \n\n        ENTRANCES_AVG  ENTRANCES_MEDI  ENTRANCES_MODE   EXT_SOURCE_1  \\\ncount   177848.000000   177848.000000   177848.000000  162345.000000   \nunique            NaN             NaN             NaN            NaN   \ntop               NaN             NaN             NaN            NaN   \nfreq              NaN             NaN             NaN            NaN   \nmean         0.150015        0.149494        0.145471       0.501965   \nstd          0.100139        0.100450        0.101088       0.210045   \nmin          0.000000        0.000000        0.000000       0.013458   \n25%          0.069000        0.069000        0.069000       0.335503   \n50%          0.137900        0.137900        0.137900       0.506155   \n75%          0.206900        0.206900        0.206900       0.673344   \nmax          1.000000        1.000000        1.000000       0.962693   \n\n        EXT_SOURCE_2   EXT_SOURCE_3  FLAG_CONT_MOBILE  FLAG_DOCUMENT_10  \\\ncount   3.555870e+05  286622.000000     356255.000000     356255.000000   \nunique           NaN            NaN               NaN               NaN   \ntop              NaN            NaN               NaN               NaN   \nfreq             NaN            NaN               NaN               NaN   \nmean    5.148900e-01       0.509350          0.998170          0.000020   \nstd     1.897531e-01       0.194141          0.042741          0.004433   \nmin     8.173617e-08       0.000527          0.000000          0.000000   \n25%     3.949551e-01       0.368969          1.000000          0.000000   \n50%     5.648491e-01       0.533482          1.000000          0.000000   \n75%     6.629285e-01       0.665855          1.000000          0.000000   \nmax     8.549997e-01       0.896010          1.000000          1.000000   \n\n        FLAG_DOCUMENT_11  FLAG_DOCUMENT_12  FLAG_DOCUMENT_13  \\\ncount      356255.000000     356255.000000     356255.000000   \nunique               NaN               NaN               NaN   \ntop                  NaN               NaN               NaN   \nfreq                 NaN               NaN               NaN   \nmean            0.003537          0.000006          0.003043   \nstd             0.059366          0.002369          0.055077   \nmin             0.000000          0.000000          0.000000   \n25%             0.000000          0.000000          0.000000   \n50%             0.000000          0.000000          0.000000   \n75%             0.000000          0.000000          0.000000   \nmax             1.000000          1.000000          1.000000   \n\n        FLAG_DOCUMENT_14  FLAG_DOCUMENT_15  FLAG_DOCUMENT_16  \\\ncount      356255.000000     356255.000000     356255.000000   \nunique               NaN               NaN               NaN   \ntop                  NaN               NaN               NaN   \nfreq                 NaN               NaN               NaN   \nmean            0.002535          0.001044          0.008570   \nstd             0.050282          0.032297          0.092175   \nmin             0.000000          0.000000          0.000000   \n25%             0.000000          0.000000          0.000000   \n50%             0.000000          0.000000          0.000000   \n75%             0.000000          0.000000          0.000000   \nmax             1.000000          1.000000          1.000000   \n\n        FLAG_DOCUMENT_17  FLAG_DOCUMENT_18  FLAG_DOCUMENT_19  FLAG_DOCUMENT_2  \\\ncount       356255.00000     356255.000000     356255.000000    356255.000000   \nunique               NaN               NaN               NaN              NaN   \ntop                  NaN               NaN               NaN              NaN   \nfreq                 NaN               NaN               NaN              NaN   \nmean             0.00023          0.007231          0.000514         0.000036   \nstd              0.01517          0.084726          0.022659         0.006041   \nmin              0.00000          0.000000          0.000000         0.000000   \n25%              0.00000          0.000000          0.000000         0.000000   \n50%              0.00000          0.000000          0.000000         0.000000   \n75%              0.00000          0.000000          0.000000         0.000000   \nmax              1.00000          1.000000          1.000000         1.000000   \n\n        FLAG_DOCUMENT_20  FLAG_DOCUMENT_21  FLAG_DOCUMENT_3  FLAG_DOCUMENT_4  \\\ncount      356255.000000     356255.000000    356255.000000    356255.000000   \nunique               NaN               NaN              NaN              NaN   \ntop                  NaN               NaN              NaN              NaN   \nfreq                 NaN               NaN              NaN              NaN   \nmean            0.000438          0.000289         0.720504         0.000084   \nstd             0.020921          0.017001         0.448752         0.009176   \nmin             0.000000          0.000000         0.000000         0.000000   \n25%             0.000000          0.000000         0.000000         0.000000   \n50%             0.000000          0.000000         1.000000         0.000000   \n75%             0.000000          0.000000         1.000000         0.000000   \nmax             1.000000          1.000000         1.000000         1.000000   \n\n        FLAG_DOCUMENT_5  FLAG_DOCUMENT_6  FLAG_DOCUMENT_7  FLAG_DOCUMENT_8  \\\ncount     356255.000000    356255.000000    356255.000000    356255.000000   \nunique              NaN              NaN              NaN              NaN   \ntop                 NaN              NaN              NaN              NaN   \nfreq                NaN              NaN              NaN              NaN   \nmean           0.015065         0.087976         0.000171         0.082346   \nstd            0.121812         0.283261         0.013084         0.274891   \nmin            0.000000         0.000000         0.000000         0.000000   \n25%            0.000000         0.000000         0.000000         0.000000   \n50%            0.000000         0.000000         0.000000         0.000000   \n75%            0.000000         0.000000         0.000000         0.000000   \nmax            1.000000         1.000000         1.000000         1.000000   \n\n        FLAG_DOCUMENT_9     FLAG_EMAIL  FLAG_EMP_PHONE     FLAG_MOBIL  \\\ncount     356255.000000  356255.000000   356255.000000  356255.000000   \nunique              NaN            NaN             NaN            NaN   \ntop                 NaN            NaN             NaN            NaN   \nfreq                NaN            NaN             NaN            NaN   \nmean           0.003977       0.071213        0.818498       0.999994   \nstd            0.062942       0.257181        0.385434       0.002369   \nmin            0.000000       0.000000        0.000000       0.000000   \n25%            0.000000       0.000000        1.000000       1.000000   \n50%            0.000000       0.000000        1.000000       1.000000   \n75%            0.000000       0.000000        1.000000       1.000000   \nmax            1.000000       1.000000        1.000000       1.000000   \n\n       FLAG_OWN_CAR FLAG_OWN_REALTY     FLAG_PHONE  FLAG_WORK_PHONE  \\\ncount        356255          356255  356255.000000    356255.000000   \nunique            2               2            NaN              NaN   \ntop               N               Y            NaN              NaN   \nfreq         235235          246970            NaN              NaN   \nmean            NaN             NaN       0.278612         0.200098   \nstd             NaN             NaN       0.448317         0.400074   \nmin             NaN             NaN       0.000000         0.000000   \n25%             NaN             NaN       0.000000         0.000000   \n50%             NaN             NaN       0.000000         0.000000   \n75%             NaN             NaN       1.000000         0.000000   \nmax             NaN             NaN       1.000000         1.000000   \n\n        FLOORSMAX_AVG  FLOORSMAX_MEDI  FLOORSMAX_MODE  FLOORSMIN_AVG  \\\ncount   179914.000000   179914.000000   179914.000000  115147.000000   \nunique            NaN             NaN             NaN            NaN   \ntop               NaN             NaN             NaN            NaN   \nfreq              NaN             NaN             NaN            NaN   \nmean         0.227331        0.226922        0.223315       0.232817   \nstd          0.145051        0.145453        0.144126       0.161909   \nmin          0.000000        0.000000        0.000000       0.000000   \n25%          0.166700        0.166700        0.166700       0.083300   \n50%          0.166700        0.166700        0.166700       0.208300   \n75%          0.333300        0.333300        0.333300       0.375000   \nmax          1.000000        1.000000        1.000000       1.000000   \n\n        FLOORSMIN_MEDI  FLOORSMIN_MODE FONDKAPREMONT_MODE  \\\ncount    115147.000000   115147.000000             113163   \nunique             NaN             NaN                  4   \ntop                NaN             NaN   reg oper account   \nfreq               NaN             NaN              85954   \nmean          0.232504        0.228878                NaN   \nstd           0.162419        0.161725                NaN   \nmin           0.000000        0.000000                NaN   \n25%           0.083300        0.083300                NaN   \n50%           0.208300        0.208300                NaN   \n75%           0.375000        0.375000                NaN   \nmax           1.000000        1.000000                NaN   \n\n        HOUR_APPR_PROCESS_START  HOUSETYPE_MODE   LANDAREA_AVG  LANDAREA_MEDI  \\\ncount             356255.000000          178339  145411.000000  145411.000000   \nunique                      NaN               3            NaN            NaN   \ntop                         NaN  block of flats            NaN            NaN   \nfreq                        NaN          175162            NaN            NaN   \nmean                  12.055749             NaN       0.066454       0.067296   \nstd                    3.267576             NaN       0.081287       0.082267   \nmin                    0.000000             NaN       0.000000       0.000000   \n25%                   10.000000             NaN       0.018700       0.018800   \n50%                   12.000000             NaN       0.048200       0.048700   \n75%                   14.000000             NaN       0.085800       0.087000   \nmax                   23.000000             NaN       1.000000       1.000000   \n\n        LANDAREA_MODE  LIVE_CITY_NOT_WORK_CITY  LIVE_REGION_NOT_WORK_REGION  \\\ncount   145411.000000            356255.000000                356255.000000   \nunique            NaN                      NaN                          NaN   \ntop               NaN                      NaN                          NaN   \nfreq              NaN                      NaN                          NaN   \nmean         0.065092                 0.178824                     0.040847   \nstd          0.081911                 0.383206                     0.197936   \nmin          0.000000                 0.000000                     0.000000   \n25%          0.016600                 0.000000                     0.000000   \n50%          0.045900                 0.000000                     0.000000   \n75%          0.084300                 0.000000                     0.000000   \nmax          1.000000                 1.000000                     1.000000   \n\n        LIVINGAPARTMENTS_AVG  LIVINGAPARTMENTS_MEDI  LIVINGAPARTMENTS_MODE  \\\ncount          113276.000000          113276.000000          113276.000000   \nunique                   NaN                    NaN                    NaN   \ntop                      NaN                    NaN                    NaN   \nfreq                     NaN                    NaN                    NaN   \nmean                0.101495               0.102674               0.106382   \nstd                 0.093418               0.094541               0.098779   \nmin                 0.000000               0.000000               0.000000   \n25%                 0.050400               0.051300               0.054200   \n50%                 0.075600               0.077000               0.077100   \n75%                 0.121000               0.123100               0.131300   \nmax                 1.000000               1.000000               1.000000   \n\n        LIVINGAREA_AVG  LIVINGAREA_MEDI  LIVINGAREA_MODE NAME_CONTRACT_TYPE  \\\ncount    178353.000000    178353.000000    178353.000000             356255   \nunique             NaN              NaN              NaN                  2   \ntop                NaN              NaN              NaN         Cash loans   \nfreq               NaN              NaN              NaN             326537   \nmean          0.108089         0.109279         0.106641                NaN   \nstd           0.111194         0.112881         0.112555                NaN   \nmin           0.000000         0.000000         0.000000                NaN   \n25%           0.045800         0.046200         0.043100                NaN   \n50%           0.074900         0.075400         0.073300                NaN   \n75%           0.131000         0.131200         0.125800                NaN   \nmax           1.000000         1.000000         1.000000                NaN   \n\n                  NAME_EDUCATION_TYPE NAME_FAMILY_STATUS  NAME_HOUSING_TYPE  \\\ncount                          356255             356255             356255   \nunique                              5                  6                  6   \ntop     Secondary / secondary special            Married  House / apartment   \nfreq                           252379             228715             316513   \nmean                              NaN                NaN                NaN   \nstd                               NaN                NaN                NaN   \nmin                               NaN                NaN                NaN   \n25%                               NaN                NaN                NaN   \n50%                               NaN                NaN                NaN   \n75%                               NaN                NaN                NaN   \nmax                               NaN                NaN                NaN   \n\n       NAME_INCOME_TYPE NAME_TYPE_SUITE  NONLIVINGAPARTMENTS_AVG  \\\ncount            356255          354052            109394.000000   \nunique                8               7                      NaN   \ntop             Working   Unaccompanied                      NaN   \nfreq             183307          288253                      NaN   \nmean                NaN             NaN                 0.008868   \nstd                 NaN             NaN                 0.047876   \nmin                 NaN             NaN                 0.000000   \n25%                 NaN             NaN                 0.000000   \n50%                 NaN             NaN                 0.000000   \n75%                 NaN             NaN                 0.003900   \nmax                 NaN             NaN                 1.000000   \n\n        NONLIVINGAPARTMENTS_MEDI  NONLIVINGAPARTMENTS_MODE  NONLIVINGAREA_AVG  \\\ncount              109394.000000             109394.000000      160489.000000   \nunique                       NaN                       NaN                NaN   \ntop                          NaN                       NaN                NaN   \nfreq                         NaN                       NaN                NaN   \nmean                    0.008697                  0.008116           0.028503   \nstd                     0.047519                  0.046330           0.069880   \nmin                     0.000000                  0.000000           0.000000   \n25%                     0.000000                  0.000000           0.000000   \n50%                     0.000000                  0.000000           0.003600   \n75%                     0.003900                  0.003900           0.027800   \nmax                     1.000000                  1.000000           1.000000   \n\n        NONLIVINGAREA_MEDI  NONLIVINGAREA_MODE  OBS_30_CNT_SOCIAL_CIRCLE  \\\ncount        160489.000000       160489.000000             355205.000000   \nunique                 NaN                 NaN                       NaN   \ntop                    NaN                 NaN                       NaN   \nfreq                   NaN                 NaN                       NaN   \nmean              0.028386            0.027183                  1.425729   \nstd               0.070574            0.070723                  2.599914   \nmin               0.000000            0.000000                  0.000000   \n25%               0.000000            0.000000                  0.000000   \n50%               0.003100            0.001100                  0.000000   \n75%               0.026800            0.023200                  2.000000   \nmax               1.000000            1.000000                354.000000   \n\n        OBS_60_CNT_SOCIAL_CIRCLE OCCUPATION_TYPE       ORGANIZATION_TYPE  \\\ncount              355205.000000          244259                  356255   \nunique                       NaN              18                      58   \ntop                          NaN        Laborers  Business Entity Type 3   \nfreq                         NaN           63841                   78832   \nmean                    1.409468             NaN                     NaN   \nstd                     2.577724             NaN                     NaN   \nmin                     0.000000             NaN                     NaN   \n25%                     0.000000             NaN                     NaN   \n50%                     0.000000             NaN                     NaN   \n75%                     2.000000             NaN                     NaN   \nmax                   351.000000             NaN                     NaN   \n\n          OWN_CAR_AGE  REGION_POPULATION_RELATIVE  REGION_RATING_CLIENT  \\\ncount   121014.000000               356255.000000         356255.000000   \nunique            NaN                         NaN                   NaN   \ntop               NaN                         NaN                   NaN   \nfreq              NaN                         NaN                   NaN   \nmean        12.023741                    0.020917              2.050506   \nstd         11.880848                    0.013915              0.510947   \nmin          0.000000                    0.000253              1.000000   \n25%          5.000000                    0.010006              2.000000   \n50%          9.000000                    0.018850              2.000000   \n75%         15.000000                    0.028663              2.000000   \nmax         91.000000                    0.072508              3.000000   \n\n        REGION_RATING_CLIENT_W_CITY  REG_CITY_NOT_LIVE_CITY  \\\ncount                 356255.000000           356255.000000   \nunique                          NaN                     NaN   \ntop                             NaN                     NaN   \nfreq                            NaN                     NaN   \nmean                       2.028932                0.078076   \nstd                        0.504586                0.268292   \nmin                       -1.000000                0.000000   \n25%                        2.000000                0.000000   \n50%                        2.000000                0.000000   \n75%                        2.000000                0.000000   \nmax                        3.000000                1.000000   \n\n        REG_CITY_NOT_WORK_CITY  REG_REGION_NOT_LIVE_REGION  \\\ncount            356255.000000               356255.000000   \nunique                     NaN                         NaN   \ntop                        NaN                         NaN   \nfreq                       NaN                         NaN   \nmean                  0.229661                    0.015649   \nstd                   0.420616                    0.124113   \nmin                   0.000000                    0.000000   \n25%                   0.000000                    0.000000   \n50%                   0.000000                    0.000000   \n75%                   0.000000                    0.000000   \nmax                   1.000000                    1.000000   \n\n        REG_REGION_NOT_WORK_REGION     SK_ID_CURR         TARGET  \\\ncount                356255.000000  356255.000000  307511.000000   \nunique                         NaN            NaN            NaN   \ntop                            NaN            NaN            NaN   \nfreq                           NaN            NaN            NaN   \nmean                      0.051371  278128.000000       0.080729   \nstd                       0.220753  102842.104413       0.272419   \nmin                       0.000000  100001.000000       0.000000   \n25%                       0.000000  189064.500000       0.000000   \n50%                       0.000000  278128.000000       0.000000   \n75%                       0.000000  367191.500000       0.000000   \nmax                       1.000000  456255.000000       1.000000   \n\n        TOTALAREA_MODE WALLSMATERIAL_MODE WEEKDAY_APPR_PROCESS_START  \\\ncount    185200.000000             176021                     356255   \nunique             NaN                  7                          7   \ntop                NaN              Panel                    TUESDAY   \nfreq               NaN              77309                      63652   \nmean          0.103193                NaN                        NaN   \nstd           0.108041                NaN                        NaN   \nmin           0.000000                NaN                        NaN   \n25%           0.041500                NaN                        NaN   \n50%           0.069000                NaN                        NaN   \n75%           0.128700                NaN                        NaN   \nmax           1.000000                NaN                        NaN   \n\n        YEARS_BEGINEXPLUATATION_AVG  YEARS_BEGINEXPLUATATION_MEDI  \\\ncount                 183392.000000                 183392.000000   \nunique                          NaN                           NaN   \ntop                             NaN                           NaN   \nfreq                            NaN                           NaN   \nmean                       0.977889                      0.977903   \nstd                        0.057929                      0.058562   \nmin                        0.000000                      0.000000   \n25%                        0.976700                      0.976700   \n50%                        0.981600                      0.981600   \n75%                        0.986600                      0.986600   \nmax                        1.000000                      1.000000   \n\n        YEARS_BEGINEXPLUATATION_MODE  YEARS_BUILD_AVG  YEARS_BUILD_MEDI  \\\ncount                  183392.000000    119949.000000     119949.000000   \nunique                           NaN              NaN               NaN   \ntop                              NaN              NaN               NaN   \nfreq                             NaN              NaN               NaN   \nmean                        0.977239         0.752283          0.755548   \nstd                         0.063165         0.113267          0.112057   \nmin                         0.000000         0.000000          0.000000   \n25%                         0.976700         0.687200          0.691400   \n50%                         0.981600         0.755200          0.758500   \n75%                         0.986600         0.823200          0.825600   \nmax                         1.000000         1.000000          1.000000   \n\n        YEARS_BUILD_MODE  \ncount      119949.000000  \nunique               NaN  \ntop                  NaN  \nfreq                 NaN  \nmean            0.759452  \nstd             0.110112  \nmin             0.000000  \n25%             0.699400  \n50%             0.764800  \n75%             0.823600  \nmax             1.000000  ",
      "text/html": "<div>\n<style scoped>\n    .dataframe tbody tr th:only-of-type {\n        vertical-align: middle;\n    }\n\n    .dataframe tbody tr th {\n        vertical-align: top;\n    }\n\n    .dataframe thead th {\n        text-align: right;\n    }\n</style>\n<table border=\"1\" class=\"dataframe\">\n  <thead>\n    <tr style=\"text-align: right;\">\n      <th></th>\n      <th>AMT_ANNUITY</th>\n      <th>AMT_CREDIT</th>\n      <th>AMT_GOODS_PRICE</th>\n      <th>AMT_INCOME_TOTAL</th>\n      <th>AMT_REQ_CREDIT_BUREAU_DAY</th>\n      <th>AMT_REQ_CREDIT_BUREAU_HOUR</th>\n      <th>AMT_REQ_CREDIT_BUREAU_MON</th>\n      <th>AMT_REQ_CREDIT_BUREAU_QRT</th>\n      <th>AMT_REQ_CREDIT_BUREAU_WEEK</th>\n      <th>AMT_REQ_CREDIT_BUREAU_YEAR</th>\n      <th>APARTMENTS_AVG</th>\n      <th>APARTMENTS_MEDI</th>\n      <th>APARTMENTS_MODE</th>\n      <th>BASEMENTAREA_AVG</th>\n      <th>BASEMENTAREA_MEDI</th>\n      <th>BASEMENTAREA_MODE</th>\n      <th>CNT_CHILDREN</th>\n      <th>CNT_FAM_MEMBERS</th>\n      <th>CODE_GENDER</th>\n      <th>COMMONAREA_AVG</th>\n      <th>COMMONAREA_MEDI</th>\n      <th>COMMONAREA_MODE</th>\n      <th>DAYS_BIRTH</th>\n      <th>DAYS_EMPLOYED</th>\n      <th>DAYS_ID_PUBLISH</th>\n      <th>DAYS_LAST_PHONE_CHANGE</th>\n      <th>DAYS_REGISTRATION</th>\n      <th>DEF_30_CNT_SOCIAL_CIRCLE</th>\n      <th>DEF_60_CNT_SOCIAL_CIRCLE</th>\n      <th>ELEVATORS_AVG</th>\n      <th>ELEVATORS_MEDI</th>\n      <th>ELEVATORS_MODE</th>\n      <th>EMERGENCYSTATE_MODE</th>\n      <th>ENTRANCES_AVG</th>\n      <th>ENTRANCES_MEDI</th>\n      <th>ENTRANCES_MODE</th>\n      <th>EXT_SOURCE_1</th>\n      <th>EXT_SOURCE_2</th>\n      <th>EXT_SOURCE_3</th>\n      <th>FLAG_CONT_MOBILE</th>\n      <th>FLAG_DOCUMENT_10</th>\n      <th>FLAG_DOCUMENT_11</th>\n      <th>FLAG_DOCUMENT_12</th>\n      <th>FLAG_DOCUMENT_13</th>\n      <th>FLAG_DOCUMENT_14</th>\n      <th>FLAG_DOCUMENT_15</th>\n      <th>FLAG_DOCUMENT_16</th>\n      <th>FLAG_DOCUMENT_17</th>\n      <th>FLAG_DOCUMENT_18</th>\n      <th>FLAG_DOCUMENT_19</th>\n      <th>FLAG_DOCUMENT_2</th>\n      <th>FLAG_DOCUMENT_20</th>\n      <th>FLAG_DOCUMENT_21</th>\n      <th>FLAG_DOCUMENT_3</th>\n      <th>FLAG_DOCUMENT_4</th>\n      <th>FLAG_DOCUMENT_5</th>\n      <th>FLAG_DOCUMENT_6</th>\n      <th>FLAG_DOCUMENT_7</th>\n      <th>FLAG_DOCUMENT_8</th>\n      <th>FLAG_DOCUMENT_9</th>\n      <th>FLAG_EMAIL</th>\n      <th>FLAG_EMP_PHONE</th>\n      <th>FLAG_MOBIL</th>\n      <th>FLAG_OWN_CAR</th>\n      <th>FLAG_OWN_REALTY</th>\n      <th>FLAG_PHONE</th>\n      <th>FLAG_WORK_PHONE</th>\n      <th>FLOORSMAX_AVG</th>\n      <th>FLOORSMAX_MEDI</th>\n      <th>FLOORSMAX_MODE</th>\n      <th>FLOORSMIN_AVG</th>\n      <th>FLOORSMIN_MEDI</th>\n      <th>FLOORSMIN_MODE</th>\n      <th>FONDKAPREMONT_MODE</th>\n      <th>HOUR_APPR_PROCESS_START</th>\n      <th>HOUSETYPE_MODE</th>\n      <th>LANDAREA_AVG</th>\n      <th>LANDAREA_MEDI</th>\n      <th>LANDAREA_MODE</th>\n      <th>LIVE_CITY_NOT_WORK_CITY</th>\n      <th>LIVE_REGION_NOT_WORK_REGION</th>\n      <th>LIVINGAPARTMENTS_AVG</th>\n      <th>LIVINGAPARTMENTS_MEDI</th>\n      <th>LIVINGAPARTMENTS_MODE</th>\n      <th>LIVINGAREA_AVG</th>\n      <th>LIVINGAREA_MEDI</th>\n      <th>LIVINGAREA_MODE</th>\n      <th>NAME_CONTRACT_TYPE</th>\n      <th>NAME_EDUCATION_TYPE</th>\n      <th>NAME_FAMILY_STATUS</th>\n      <th>NAME_HOUSING_TYPE</th>\n      <th>NAME_INCOME_TYPE</th>\n      <th>NAME_TYPE_SUITE</th>\n      <th>NONLIVINGAPARTMENTS_AVG</th>\n      <th>NONLIVINGAPARTMENTS_MEDI</th>\n      <th>NONLIVINGAPARTMENTS_MODE</th>\n      <th>NONLIVINGAREA_AVG</th>\n      <th>NONLIVINGAREA_MEDI</th>\n      <th>NONLIVINGAREA_MODE</th>\n      <th>OBS_30_CNT_SOCIAL_CIRCLE</th>\n      <th>OBS_60_CNT_SOCIAL_CIRCLE</th>\n      <th>OCCUPATION_TYPE</th>\n      <th>ORGANIZATION_TYPE</th>\n      <th>OWN_CAR_AGE</th>\n      <th>REGION_POPULATION_RELATIVE</th>\n      <th>REGION_RATING_CLIENT</th>\n      <th>REGION_RATING_CLIENT_W_CITY</th>\n      <th>REG_CITY_NOT_LIVE_CITY</th>\n      <th>REG_CITY_NOT_WORK_CITY</th>\n      <th>REG_REGION_NOT_LIVE_REGION</th>\n      <th>REG_REGION_NOT_WORK_REGION</th>\n      <th>SK_ID_CURR</th>\n      <th>TARGET</th>\n      <th>TOTALAREA_MODE</th>\n      <th>WALLSMATERIAL_MODE</th>\n      <th>WEEKDAY_APPR_PROCESS_START</th>\n      <th>YEARS_BEGINEXPLUATATION_AVG</th>\n      <th>YEARS_BEGINEXPLUATATION_MEDI</th>\n      <th>YEARS_BEGINEXPLUATATION_MODE</th>\n      <th>YEARS_BUILD_AVG</th>\n      <th>YEARS_BUILD_MEDI</th>\n      <th>YEARS_BUILD_MODE</th>\n    </tr>\n  </thead>\n  <tbody>\n    <tr>\n      <th>count</th>\n      <td>356219.000000</td>\n      <td>3.562550e+05</td>\n      <td>3.559770e+05</td>\n      <td>3.562550e+05</td>\n      <td>308687.000000</td>\n      <td>308687.000000</td>\n      <td>308687.000000</td>\n      <td>308687.000000</td>\n      <td>308687.000000</td>\n      <td>308687.000000</td>\n      <td>176307.000000</td>\n      <td>176307.000000</td>\n      <td>176307.000000</td>\n      <td>148671.000000</td>\n      <td>148671.000000</td>\n      <td>148671.000000</td>\n      <td>356255.000000</td>\n      <td>356253.000000</td>\n      <td>356255</td>\n      <td>107895.000000</td>\n      <td>107895.000000</td>\n      <td>107895.000000</td>\n      <td>356255.000000</td>\n      <td>356255.000000</td>\n      <td>356255.000000</td>\n      <td>356254.000000</td>\n      <td>356255.000000</td>\n      <td>355205.000000</td>\n      <td>355205.000000</td>\n      <td>167175.000000</td>\n      <td>167175.000000</td>\n      <td>167175.000000</td>\n      <td>188291</td>\n      <td>177848.000000</td>\n      <td>177848.000000</td>\n      <td>177848.000000</td>\n      <td>162345.000000</td>\n      <td>3.555870e+05</td>\n      <td>286622.000000</td>\n      <td>356255.000000</td>\n      <td>356255.000000</td>\n      <td>356255.000000</td>\n      <td>356255.000000</td>\n      <td>356255.000000</td>\n      <td>356255.000000</td>\n      <td>356255.000000</td>\n      <td>356255.000000</td>\n      <td>356255.00000</td>\n      <td>356255.000000</td>\n      <td>356255.000000</td>\n      <td>356255.000000</td>\n      <td>356255.000000</td>\n      <td>356255.000000</td>\n      <td>356255.000000</td>\n      <td>356255.000000</td>\n      <td>356255.000000</td>\n      <td>356255.000000</td>\n      <td>356255.000000</td>\n      <td>356255.000000</td>\n      <td>356255.000000</td>\n      <td>356255.000000</td>\n      <td>356255.000000</td>\n      <td>356255.000000</td>\n      <td>356255</td>\n      <td>356255</td>\n      <td>356255.000000</td>\n      <td>356255.000000</td>\n      <td>179914.000000</td>\n      <td>179914.000000</td>\n      <td>179914.000000</td>\n      <td>115147.000000</td>\n      <td>115147.000000</td>\n      <td>115147.000000</td>\n      <td>113163</td>\n      <td>356255.000000</td>\n      <td>178339</td>\n      <td>145411.000000</td>\n      <td>145411.000000</td>\n      <td>145411.000000</td>\n      <td>356255.000000</td>\n      <td>356255.000000</td>\n      <td>113276.000000</td>\n      <td>113276.000000</td>\n      <td>113276.000000</td>\n      <td>178353.000000</td>\n      <td>178353.000000</td>\n      <td>178353.000000</td>\n      <td>356255</td>\n      <td>356255</td>\n      <td>356255</td>\n      <td>356255</td>\n      <td>356255</td>\n      <td>354052</td>\n      <td>109394.000000</td>\n      <td>109394.000000</td>\n      <td>109394.000000</td>\n      <td>160489.000000</td>\n      <td>160489.000000</td>\n      <td>160489.000000</td>\n      <td>355205.000000</td>\n      <td>355205.000000</td>\n      <td>244259</td>\n      <td>356255</td>\n      <td>121014.000000</td>\n      <td>356255.000000</td>\n      <td>356255.000000</td>\n      <td>356255.000000</td>\n      <td>356255.000000</td>\n      <td>356255.000000</td>\n      <td>356255.000000</td>\n      <td>356255.000000</td>\n      <td>356255.000000</td>\n      <td>307511.000000</td>\n      <td>185200.000000</td>\n      <td>176021</td>\n      <td>356255</td>\n      <td>183392.000000</td>\n      <td>183392.000000</td>\n      <td>183392.000000</td>\n      <td>119949.000000</td>\n      <td>119949.000000</td>\n      <td>119949.000000</td>\n    </tr>\n    <tr>\n      <th>unique</th>\n      <td>NaN</td>\n      <td>NaN</td>\n      <td>NaN</td>\n      <td>NaN</td>\n      <td>NaN</td>\n      <td>NaN</td>\n      <td>NaN</td>\n      <td>NaN</td>\n      <td>NaN</td>\n      <td>NaN</td>\n      <td>NaN</td>\n      <td>NaN</td>\n      <td>NaN</td>\n      <td>NaN</td>\n      <td>NaN</td>\n      <td>NaN</td>\n      <td>NaN</td>\n      <td>NaN</td>\n      <td>3</td>\n      <td>NaN</td>\n      <td>NaN</td>\n      <td>NaN</td>\n      <td>NaN</td>\n      <td>NaN</td>\n      <td>NaN</td>\n      <td>NaN</td>\n      <td>NaN</td>\n      <td>NaN</td>\n      <td>NaN</td>\n      <td>NaN</td>\n      <td>NaN</td>\n      <td>NaN</td>\n      <td>2</td>\n      <td>NaN</td>\n      <td>NaN</td>\n      <td>NaN</td>\n      <td>NaN</td>\n      <td>NaN</td>\n      <td>NaN</td>\n      <td>NaN</td>\n      <td>NaN</td>\n      <td>NaN</td>\n      <td>NaN</td>\n      <td>NaN</td>\n      <td>NaN</td>\n      <td>NaN</td>\n      <td>NaN</td>\n      <td>NaN</td>\n      <td>NaN</td>\n      <td>NaN</td>\n      <td>NaN</td>\n      <td>NaN</td>\n      <td>NaN</td>\n      <td>NaN</td>\n      <td>NaN</td>\n      <td>NaN</td>\n      <td>NaN</td>\n      <td>NaN</td>\n      <td>NaN</td>\n      <td>NaN</td>\n      <td>NaN</td>\n      <td>NaN</td>\n      <td>NaN</td>\n      <td>2</td>\n      <td>2</td>\n      <td>NaN</td>\n      <td>NaN</td>\n      <td>NaN</td>\n      <td>NaN</td>\n      <td>NaN</td>\n      <td>NaN</td>\n      <td>NaN</td>\n      <td>NaN</td>\n      <td>4</td>\n      <td>NaN</td>\n      <td>3</td>\n      <td>NaN</td>\n      <td>NaN</td>\n      <td>NaN</td>\n      <td>NaN</td>\n      <td>NaN</td>\n      <td>NaN</td>\n      <td>NaN</td>\n      <td>NaN</td>\n      <td>NaN</td>\n      <td>NaN</td>\n      <td>NaN</td>\n      <td>2</td>\n      <td>5</td>\n      <td>6</td>\n      <td>6</td>\n      <td>8</td>\n      <td>7</td>\n      <td>NaN</td>\n      <td>NaN</td>\n      <td>NaN</td>\n      <td>NaN</td>\n      <td>NaN</td>\n      <td>NaN</td>\n      <td>NaN</td>\n      <td>NaN</td>\n      <td>18</td>\n      <td>58</td>\n      <td>NaN</td>\n      <td>NaN</td>\n      <td>NaN</td>\n      <td>NaN</td>\n      <td>NaN</td>\n      <td>NaN</td>\n      <td>NaN</td>\n      <td>NaN</td>\n      <td>NaN</td>\n      <td>NaN</td>\n      <td>NaN</td>\n      <td>7</td>\n      <td>7</td>\n      <td>NaN</td>\n      <td>NaN</td>\n      <td>NaN</td>\n      <td>NaN</td>\n      <td>NaN</td>\n      <td>NaN</td>\n    </tr>\n    <tr>\n      <th>top</th>\n      <td>NaN</td>\n      <td>NaN</td>\n      <td>NaN</td>\n      <td>NaN</td>\n      <td>NaN</td>\n      <td>NaN</td>\n      <td>NaN</td>\n      <td>NaN</td>\n      <td>NaN</td>\n      <td>NaN</td>\n      <td>NaN</td>\n      <td>NaN</td>\n      <td>NaN</td>\n      <td>NaN</td>\n      <td>NaN</td>\n      <td>NaN</td>\n      <td>NaN</td>\n      <td>NaN</td>\n      <td>F</td>\n      <td>NaN</td>\n      <td>NaN</td>\n      <td>NaN</td>\n      <td>NaN</td>\n      <td>NaN</td>\n      <td>NaN</td>\n      <td>NaN</td>\n      <td>NaN</td>\n      <td>NaN</td>\n      <td>NaN</td>\n      <td>NaN</td>\n      <td>NaN</td>\n      <td>NaN</td>\n      <td>No</td>\n      <td>NaN</td>\n      <td>NaN</td>\n      <td>NaN</td>\n      <td>NaN</td>\n      <td>NaN</td>\n      <td>NaN</td>\n      <td>NaN</td>\n      <td>NaN</td>\n      <td>NaN</td>\n      <td>NaN</td>\n      <td>NaN</td>\n      <td>NaN</td>\n      <td>NaN</td>\n      <td>NaN</td>\n      <td>NaN</td>\n      <td>NaN</td>\n      <td>NaN</td>\n      <td>NaN</td>\n      <td>NaN</td>\n      <td>NaN</td>\n      <td>NaN</td>\n      <td>NaN</td>\n      <td>NaN</td>\n      <td>NaN</td>\n      <td>NaN</td>\n      <td>NaN</td>\n      <td>NaN</td>\n      <td>NaN</td>\n      <td>NaN</td>\n      <td>NaN</td>\n      <td>N</td>\n      <td>Y</td>\n      <td>NaN</td>\n      <td>NaN</td>\n      <td>NaN</td>\n      <td>NaN</td>\n      <td>NaN</td>\n      <td>NaN</td>\n      <td>NaN</td>\n      <td>NaN</td>\n      <td>reg oper account</td>\n      <td>NaN</td>\n      <td>block of flats</td>\n      <td>NaN</td>\n      <td>NaN</td>\n      <td>NaN</td>\n      <td>NaN</td>\n      <td>NaN</td>\n      <td>NaN</td>\n      <td>NaN</td>\n      <td>NaN</td>\n      <td>NaN</td>\n      <td>NaN</td>\n      <td>NaN</td>\n      <td>Cash loans</td>\n      <td>Secondary / secondary special</td>\n      <td>Married</td>\n      <td>House / apartment</td>\n      <td>Working</td>\n      <td>Unaccompanied</td>\n      <td>NaN</td>\n      <td>NaN</td>\n      <td>NaN</td>\n      <td>NaN</td>\n      <td>NaN</td>\n      <td>NaN</td>\n      <td>NaN</td>\n      <td>NaN</td>\n      <td>Laborers</td>\n      <td>Business Entity Type 3</td>\n      <td>NaN</td>\n      <td>NaN</td>\n      <td>NaN</td>\n      <td>NaN</td>\n      <td>NaN</td>\n      <td>NaN</td>\n      <td>NaN</td>\n      <td>NaN</td>\n      <td>NaN</td>\n      <td>NaN</td>\n      <td>NaN</td>\n      <td>Panel</td>\n      <td>TUESDAY</td>\n      <td>NaN</td>\n      <td>NaN</td>\n      <td>NaN</td>\n      <td>NaN</td>\n      <td>NaN</td>\n      <td>NaN</td>\n    </tr>\n    <tr>\n      <th>freq</th>\n      <td>NaN</td>\n      <td>NaN</td>\n      <td>NaN</td>\n      <td>NaN</td>\n      <td>NaN</td>\n      <td>NaN</td>\n      <td>NaN</td>\n      <td>NaN</td>\n      <td>NaN</td>\n      <td>NaN</td>\n      <td>NaN</td>\n      <td>NaN</td>\n      <td>NaN</td>\n      <td>NaN</td>\n      <td>NaN</td>\n      <td>NaN</td>\n      <td>NaN</td>\n      <td>NaN</td>\n      <td>235126</td>\n      <td>NaN</td>\n      <td>NaN</td>\n      <td>NaN</td>\n      <td>NaN</td>\n      <td>NaN</td>\n      <td>NaN</td>\n      <td>NaN</td>\n      <td>NaN</td>\n      <td>NaN</td>\n      <td>NaN</td>\n      <td>NaN</td>\n      <td>NaN</td>\n      <td>NaN</td>\n      <td>185607</td>\n      <td>NaN</td>\n      <td>NaN</td>\n      <td>NaN</td>\n      <td>NaN</td>\n      <td>NaN</td>\n      <td>NaN</td>\n      <td>NaN</td>\n      <td>NaN</td>\n      <td>NaN</td>\n      <td>NaN</td>\n      <td>NaN</td>\n      <td>NaN</td>\n      <td>NaN</td>\n      <td>NaN</td>\n      <td>NaN</td>\n      <td>NaN</td>\n      <td>NaN</td>\n      <td>NaN</td>\n      <td>NaN</td>\n      <td>NaN</td>\n      <td>NaN</td>\n      <td>NaN</td>\n      <td>NaN</td>\n      <td>NaN</td>\n      <td>NaN</td>\n      <td>NaN</td>\n      <td>NaN</td>\n      <td>NaN</td>\n      <td>NaN</td>\n      <td>NaN</td>\n      <td>235235</td>\n      <td>246970</td>\n      <td>NaN</td>\n      <td>NaN</td>\n      <td>NaN</td>\n      <td>NaN</td>\n      <td>NaN</td>\n      <td>NaN</td>\n      <td>NaN</td>\n      <td>NaN</td>\n      <td>85954</td>\n      <td>NaN</td>\n      <td>175162</td>\n      <td>NaN</td>\n      <td>NaN</td>\n      <td>NaN</td>\n      <td>NaN</td>\n      <td>NaN</td>\n      <td>NaN</td>\n      <td>NaN</td>\n      <td>NaN</td>\n      <td>NaN</td>\n      <td>NaN</td>\n      <td>NaN</td>\n      <td>326537</td>\n      <td>252379</td>\n      <td>228715</td>\n      <td>316513</td>\n      <td>183307</td>\n      <td>288253</td>\n      <td>NaN</td>\n      <td>NaN</td>\n      <td>NaN</td>\n      <td>NaN</td>\n      <td>NaN</td>\n      <td>NaN</td>\n      <td>NaN</td>\n      <td>NaN</td>\n      <td>63841</td>\n      <td>78832</td>\n      <td>NaN</td>\n      <td>NaN</td>\n      <td>NaN</td>\n      <td>NaN</td>\n      <td>NaN</td>\n      <td>NaN</td>\n      <td>NaN</td>\n      <td>NaN</td>\n      <td>NaN</td>\n      <td>NaN</td>\n      <td>NaN</td>\n      <td>77309</td>\n      <td>63652</td>\n      <td>NaN</td>\n      <td>NaN</td>\n      <td>NaN</td>\n      <td>NaN</td>\n      <td>NaN</td>\n      <td>NaN</td>\n    </tr>\n    <tr>\n      <th>mean</th>\n      <td>27425.560657</td>\n      <td>5.877674e+05</td>\n      <td>5.280200e+05</td>\n      <td>1.701161e+05</td>\n      <td>0.006281</td>\n      <td>0.005808</td>\n      <td>0.231697</td>\n      <td>0.304399</td>\n      <td>0.029995</td>\n      <td>1.911564</td>\n      <td>0.118138</td>\n      <td>0.118549</td>\n      <td>0.114914</td>\n      <td>0.088673</td>\n      <td>0.088178</td>\n      <td>0.087750</td>\n      <td>0.414316</td>\n      <td>2.151858</td>\n      <td>NaN</td>\n      <td>0.045045</td>\n      <td>0.044994</td>\n      <td>0.042930</td>\n      <td>-16041.248841</td>\n      <td>64317.231413</td>\n      <td>-3002.071163</td>\n      <td>-978.580852</td>\n      <td>-4983.593527</td>\n      <td>0.143452</td>\n      <td>0.100198</td>\n      <td>0.079819</td>\n      <td>0.078930</td>\n      <td>0.075346</td>\n      <td>NaN</td>\n      <td>0.150015</td>\n      <td>0.149494</td>\n      <td>0.145471</td>\n      <td>0.501965</td>\n      <td>5.148900e-01</td>\n      <td>0.509350</td>\n      <td>0.998170</td>\n      <td>0.000020</td>\n      <td>0.003537</td>\n      <td>0.000006</td>\n      <td>0.003043</td>\n      <td>0.002535</td>\n      <td>0.001044</td>\n      <td>0.008570</td>\n      <td>0.00023</td>\n      <td>0.007231</td>\n      <td>0.000514</td>\n      <td>0.000036</td>\n      <td>0.000438</td>\n      <td>0.000289</td>\n      <td>0.720504</td>\n      <td>0.000084</td>\n      <td>0.015065</td>\n      <td>0.087976</td>\n      <td>0.000171</td>\n      <td>0.082346</td>\n      <td>0.003977</td>\n      <td>0.071213</td>\n      <td>0.818498</td>\n      <td>0.999994</td>\n      <td>NaN</td>\n      <td>NaN</td>\n      <td>0.278612</td>\n      <td>0.200098</td>\n      <td>0.227331</td>\n      <td>0.226922</td>\n      <td>0.223315</td>\n      <td>0.232817</td>\n      <td>0.232504</td>\n      <td>0.228878</td>\n      <td>NaN</td>\n      <td>12.055749</td>\n      <td>NaN</td>\n      <td>0.066454</td>\n      <td>0.067296</td>\n      <td>0.065092</td>\n      <td>0.178824</td>\n      <td>0.040847</td>\n      <td>0.101495</td>\n      <td>0.102674</td>\n      <td>0.106382</td>\n      <td>0.108089</td>\n      <td>0.109279</td>\n      <td>0.106641</td>\n      <td>NaN</td>\n      <td>NaN</td>\n      <td>NaN</td>\n      <td>NaN</td>\n      <td>NaN</td>\n      <td>NaN</td>\n      <td>0.008868</td>\n      <td>0.008697</td>\n      <td>0.008116</td>\n      <td>0.028503</td>\n      <td>0.028386</td>\n      <td>0.027183</td>\n      <td>1.425729</td>\n      <td>1.409468</td>\n      <td>NaN</td>\n      <td>NaN</td>\n      <td>12.023741</td>\n      <td>0.020917</td>\n      <td>2.050506</td>\n      <td>2.028932</td>\n      <td>0.078076</td>\n      <td>0.229661</td>\n      <td>0.015649</td>\n      <td>0.051371</td>\n      <td>278128.000000</td>\n      <td>0.080729</td>\n      <td>0.103193</td>\n      <td>NaN</td>\n      <td>NaN</td>\n      <td>0.977889</td>\n      <td>0.977903</td>\n      <td>0.977239</td>\n      <td>0.752283</td>\n      <td>0.755548</td>\n      <td>0.759452</td>\n    </tr>\n    <tr>\n      <th>std</th>\n      <td>14732.808190</td>\n      <td>3.986237e+05</td>\n      <td>3.660650e+05</td>\n      <td>2.235068e+05</td>\n      <td>0.104250</td>\n      <td>0.079736</td>\n      <td>0.855949</td>\n      <td>0.786915</td>\n      <td>0.191374</td>\n      <td>1.865338</td>\n      <td>0.108954</td>\n      <td>0.109824</td>\n      <td>0.108745</td>\n      <td>0.082312</td>\n      <td>0.082017</td>\n      <td>0.084076</td>\n      <td>0.720378</td>\n      <td>0.907937</td>\n      <td>NaN</td>\n      <td>0.077045</td>\n      <td>0.077140</td>\n      <td>0.075437</td>\n      <td>4358.803980</td>\n      <td>141705.532576</td>\n      <td>1517.901735</td>\n      <td>835.063902</td>\n      <td>3526.968986</td>\n      <td>0.456579</td>\n      <td>0.368259</td>\n      <td>0.135249</td>\n      <td>0.135133</td>\n      <td>0.133025</td>\n      <td>NaN</td>\n      <td>0.100139</td>\n      <td>0.100450</td>\n      <td>0.101088</td>\n      <td>0.210045</td>\n      <td>1.897531e-01</td>\n      <td>0.194141</td>\n      <td>0.042741</td>\n      <td>0.004433</td>\n      <td>0.059366</td>\n      <td>0.002369</td>\n      <td>0.055077</td>\n      <td>0.050282</td>\n      <td>0.032297</td>\n      <td>0.092175</td>\n      <td>0.01517</td>\n      <td>0.084726</td>\n      <td>0.022659</td>\n      <td>0.006041</td>\n      <td>0.020921</td>\n      <td>0.017001</td>\n      <td>0.448752</td>\n      <td>0.009176</td>\n      <td>0.121812</td>\n      <td>0.283261</td>\n      <td>0.013084</td>\n      <td>0.274891</td>\n      <td>0.062942</td>\n      <td>0.257181</td>\n      <td>0.385434</td>\n      <td>0.002369</td>\n      <td>NaN</td>\n      <td>NaN</td>\n      <td>0.448317</td>\n      <td>0.400074</td>\n      <td>0.145051</td>\n      <td>0.145453</td>\n      <td>0.144126</td>\n      <td>0.161909</td>\n      <td>0.162419</td>\n      <td>0.161725</td>\n      <td>NaN</td>\n      <td>3.267576</td>\n      <td>NaN</td>\n      <td>0.081287</td>\n      <td>0.082267</td>\n      <td>0.081911</td>\n      <td>0.383206</td>\n      <td>0.197936</td>\n      <td>0.093418</td>\n      <td>0.094541</td>\n      <td>0.098779</td>\n      <td>0.111194</td>\n      <td>0.112881</td>\n      <td>0.112555</td>\n      <td>NaN</td>\n      <td>NaN</td>\n      <td>NaN</td>\n      <td>NaN</td>\n      <td>NaN</td>\n      <td>NaN</td>\n      <td>0.047876</td>\n      <td>0.047519</td>\n      <td>0.046330</td>\n      <td>0.069880</td>\n      <td>0.070574</td>\n      <td>0.070723</td>\n      <td>2.599914</td>\n      <td>2.577724</td>\n      <td>NaN</td>\n      <td>NaN</td>\n      <td>11.880848</td>\n      <td>0.013915</td>\n      <td>0.510947</td>\n      <td>0.504586</td>\n      <td>0.268292</td>\n      <td>0.420616</td>\n      <td>0.124113</td>\n      <td>0.220753</td>\n      <td>102842.104413</td>\n      <td>0.272419</td>\n      <td>0.108041</td>\n      <td>NaN</td>\n      <td>NaN</td>\n      <td>0.057929</td>\n      <td>0.058562</td>\n      <td>0.063165</td>\n      <td>0.113267</td>\n      <td>0.112057</td>\n      <td>0.110112</td>\n    </tr>\n    <tr>\n      <th>min</th>\n      <td>1615.500000</td>\n      <td>4.500000e+04</td>\n      <td>4.050000e+04</td>\n      <td>2.565000e+04</td>\n      <td>0.000000</td>\n      <td>0.000000</td>\n      <td>0.000000</td>\n      <td>0.000000</td>\n      <td>0.000000</td>\n      <td>0.000000</td>\n      <td>0.000000</td>\n      <td>0.000000</td>\n      <td>0.000000</td>\n      <td>0.000000</td>\n      <td>0.000000</td>\n      <td>0.000000</td>\n      <td>0.000000</td>\n      <td>1.000000</td>\n      <td>NaN</td>\n      <td>0.000000</td>\n      <td>0.000000</td>\n      <td>0.000000</td>\n      <td>-25229.000000</td>\n      <td>-17912.000000</td>\n      <td>-7197.000000</td>\n      <td>-4361.000000</td>\n      <td>-24672.000000</td>\n      <td>0.000000</td>\n      <td>0.000000</td>\n      <td>0.000000</td>\n      <td>0.000000</td>\n      <td>0.000000</td>\n      <td>NaN</td>\n      <td>0.000000</td>\n      <td>0.000000</td>\n      <td>0.000000</td>\n      <td>0.013458</td>\n      <td>8.173617e-08</td>\n      <td>0.000527</td>\n      <td>0.000000</td>\n      <td>0.000000</td>\n      <td>0.000000</td>\n      <td>0.000000</td>\n      <td>0.000000</td>\n      <td>0.000000</td>\n      <td>0.000000</td>\n      <td>0.000000</td>\n      <td>0.00000</td>\n      <td>0.000000</td>\n      <td>0.000000</td>\n      <td>0.000000</td>\n      <td>0.000000</td>\n      <td>0.000000</td>\n      <td>0.000000</td>\n      <td>0.000000</td>\n      <td>0.000000</td>\n      <td>0.000000</td>\n      <td>0.000000</td>\n      <td>0.000000</td>\n      <td>0.000000</td>\n      <td>0.000000</td>\n      <td>0.000000</td>\n      <td>0.000000</td>\n      <td>NaN</td>\n      <td>NaN</td>\n      <td>0.000000</td>\n      <td>0.000000</td>\n      <td>0.000000</td>\n      <td>0.000000</td>\n      <td>0.000000</td>\n      <td>0.000000</td>\n      <td>0.000000</td>\n      <td>0.000000</td>\n      <td>NaN</td>\n      <td>0.000000</td>\n      <td>NaN</td>\n      <td>0.000000</td>\n      <td>0.000000</td>\n      <td>0.000000</td>\n      <td>0.000000</td>\n      <td>0.000000</td>\n      <td>0.000000</td>\n      <td>0.000000</td>\n      <td>0.000000</td>\n      <td>0.000000</td>\n      <td>0.000000</td>\n      <td>0.000000</td>\n      <td>NaN</td>\n      <td>NaN</td>\n      <td>NaN</td>\n      <td>NaN</td>\n      <td>NaN</td>\n      <td>NaN</td>\n      <td>0.000000</td>\n      <td>0.000000</td>\n      <td>0.000000</td>\n      <td>0.000000</td>\n      <td>0.000000</td>\n      <td>0.000000</td>\n      <td>0.000000</td>\n      <td>0.000000</td>\n      <td>NaN</td>\n      <td>NaN</td>\n      <td>0.000000</td>\n      <td>0.000253</td>\n      <td>1.000000</td>\n      <td>-1.000000</td>\n      <td>0.000000</td>\n      <td>0.000000</td>\n      <td>0.000000</td>\n      <td>0.000000</td>\n      <td>100001.000000</td>\n      <td>0.000000</td>\n      <td>0.000000</td>\n      <td>NaN</td>\n      <td>NaN</td>\n      <td>0.000000</td>\n      <td>0.000000</td>\n      <td>0.000000</td>\n      <td>0.000000</td>\n      <td>0.000000</td>\n      <td>0.000000</td>\n    </tr>\n    <tr>\n      <th>25%</th>\n      <td>16731.000000</td>\n      <td>2.700000e+05</td>\n      <td>2.340000e+05</td>\n      <td>1.125000e+05</td>\n      <td>0.000000</td>\n      <td>0.000000</td>\n      <td>0.000000</td>\n      <td>0.000000</td>\n      <td>0.000000</td>\n      <td>0.000000</td>\n      <td>0.057700</td>\n      <td>0.058300</td>\n      <td>0.052500</td>\n      <td>0.044500</td>\n      <td>0.044100</td>\n      <td>0.041000</td>\n      <td>0.000000</td>\n      <td>2.000000</td>\n      <td>NaN</td>\n      <td>0.007900</td>\n      <td>0.007900</td>\n      <td>0.007300</td>\n      <td>-19676.000000</td>\n      <td>-2781.000000</td>\n      <td>-4318.000000</td>\n      <td>-1592.000000</td>\n      <td>-7477.000000</td>\n      <td>0.000000</td>\n      <td>0.000000</td>\n      <td>0.000000</td>\n      <td>0.000000</td>\n      <td>0.000000</td>\n      <td>NaN</td>\n      <td>0.069000</td>\n      <td>0.069000</td>\n      <td>0.069000</td>\n      <td>0.335503</td>\n      <td>3.949551e-01</td>\n      <td>0.368969</td>\n      <td>1.000000</td>\n      <td>0.000000</td>\n      <td>0.000000</td>\n      <td>0.000000</td>\n      <td>0.000000</td>\n      <td>0.000000</td>\n      <td>0.000000</td>\n      <td>0.000000</td>\n      <td>0.00000</td>\n      <td>0.000000</td>\n      <td>0.000000</td>\n      <td>0.000000</td>\n      <td>0.000000</td>\n      <td>0.000000</td>\n      <td>0.000000</td>\n      <td>0.000000</td>\n      <td>0.000000</td>\n      <td>0.000000</td>\n      <td>0.000000</td>\n      <td>0.000000</td>\n      <td>0.000000</td>\n      <td>0.000000</td>\n      <td>1.000000</td>\n      <td>1.000000</td>\n      <td>NaN</td>\n      <td>NaN</td>\n      <td>0.000000</td>\n      <td>0.000000</td>\n      <td>0.166700</td>\n      <td>0.166700</td>\n      <td>0.166700</td>\n      <td>0.083300</td>\n      <td>0.083300</td>\n      <td>0.083300</td>\n      <td>NaN</td>\n      <td>10.000000</td>\n      <td>NaN</td>\n      <td>0.018700</td>\n      <td>0.018800</td>\n      <td>0.016600</td>\n      <td>0.000000</td>\n      <td>0.000000</td>\n      <td>0.050400</td>\n      <td>0.051300</td>\n      <td>0.054200</td>\n      <td>0.045800</td>\n      <td>0.046200</td>\n      <td>0.043100</td>\n      <td>NaN</td>\n      <td>NaN</td>\n      <td>NaN</td>\n      <td>NaN</td>\n      <td>NaN</td>\n      <td>NaN</td>\n      <td>0.000000</td>\n      <td>0.000000</td>\n      <td>0.000000</td>\n      <td>0.000000</td>\n      <td>0.000000</td>\n      <td>0.000000</td>\n      <td>0.000000</td>\n      <td>0.000000</td>\n      <td>NaN</td>\n      <td>NaN</td>\n      <td>5.000000</td>\n      <td>0.010006</td>\n      <td>2.000000</td>\n      <td>2.000000</td>\n      <td>0.000000</td>\n      <td>0.000000</td>\n      <td>0.000000</td>\n      <td>0.000000</td>\n      <td>189064.500000</td>\n      <td>0.000000</td>\n      <td>0.041500</td>\n      <td>NaN</td>\n      <td>NaN</td>\n      <td>0.976700</td>\n      <td>0.976700</td>\n      <td>0.976700</td>\n      <td>0.687200</td>\n      <td>0.691400</td>\n      <td>0.699400</td>\n    </tr>\n    <tr>\n      <th>50%</th>\n      <td>25078.500000</td>\n      <td>5.002110e+05</td>\n      <td>4.500000e+05</td>\n      <td>1.530000e+05</td>\n      <td>0.000000</td>\n      <td>0.000000</td>\n      <td>0.000000</td>\n      <td>0.000000</td>\n      <td>0.000000</td>\n      <td>1.000000</td>\n      <td>0.088000</td>\n      <td>0.087400</td>\n      <td>0.084000</td>\n      <td>0.076500</td>\n      <td>0.076100</td>\n      <td>0.074900</td>\n      <td>0.000000</td>\n      <td>2.000000</td>\n      <td>NaN</td>\n      <td>0.021300</td>\n      <td>0.021000</td>\n      <td>0.019200</td>\n      <td>-15755.000000</td>\n      <td>-1224.000000</td>\n      <td>-3252.000000</td>\n      <td>-771.000000</td>\n      <td>-4502.000000</td>\n      <td>0.000000</td>\n      <td>0.000000</td>\n      <td>0.000000</td>\n      <td>0.000000</td>\n      <td>0.000000</td>\n      <td>NaN</td>\n      <td>0.137900</td>\n      <td>0.137900</td>\n      <td>0.137900</td>\n      <td>0.506155</td>\n      <td>5.648491e-01</td>\n      <td>0.533482</td>\n      <td>1.000000</td>\n      <td>0.000000</td>\n      <td>0.000000</td>\n      <td>0.000000</td>\n      <td>0.000000</td>\n      <td>0.000000</td>\n      <td>0.000000</td>\n      <td>0.000000</td>\n      <td>0.00000</td>\n      <td>0.000000</td>\n      <td>0.000000</td>\n      <td>0.000000</td>\n      <td>0.000000</td>\n      <td>0.000000</td>\n      <td>1.000000</td>\n      <td>0.000000</td>\n      <td>0.000000</td>\n      <td>0.000000</td>\n      <td>0.000000</td>\n      <td>0.000000</td>\n      <td>0.000000</td>\n      <td>0.000000</td>\n      <td>1.000000</td>\n      <td>1.000000</td>\n      <td>NaN</td>\n      <td>NaN</td>\n      <td>0.000000</td>\n      <td>0.000000</td>\n      <td>0.166700</td>\n      <td>0.166700</td>\n      <td>0.166700</td>\n      <td>0.208300</td>\n      <td>0.208300</td>\n      <td>0.208300</td>\n      <td>NaN</td>\n      <td>12.000000</td>\n      <td>NaN</td>\n      <td>0.048200</td>\n      <td>0.048700</td>\n      <td>0.045900</td>\n      <td>0.000000</td>\n      <td>0.000000</td>\n      <td>0.075600</td>\n      <td>0.077000</td>\n      <td>0.077100</td>\n      <td>0.074900</td>\n      <td>0.075400</td>\n      <td>0.073300</td>\n      <td>NaN</td>\n      <td>NaN</td>\n      <td>NaN</td>\n      <td>NaN</td>\n      <td>NaN</td>\n      <td>NaN</td>\n      <td>0.000000</td>\n      <td>0.000000</td>\n      <td>0.000000</td>\n      <td>0.003600</td>\n      <td>0.003100</td>\n      <td>0.001100</td>\n      <td>0.000000</td>\n      <td>0.000000</td>\n      <td>NaN</td>\n      <td>NaN</td>\n      <td>9.000000</td>\n      <td>0.018850</td>\n      <td>2.000000</td>\n      <td>2.000000</td>\n      <td>0.000000</td>\n      <td>0.000000</td>\n      <td>0.000000</td>\n      <td>0.000000</td>\n      <td>278128.000000</td>\n      <td>0.000000</td>\n      <td>0.069000</td>\n      <td>NaN</td>\n      <td>NaN</td>\n      <td>0.981600</td>\n      <td>0.981600</td>\n      <td>0.981600</td>\n      <td>0.755200</td>\n      <td>0.758500</td>\n      <td>0.764800</td>\n    </tr>\n    <tr>\n      <th>75%</th>\n      <td>34960.500000</td>\n      <td>7.975575e+05</td>\n      <td>6.750000e+05</td>\n      <td>2.025000e+05</td>\n      <td>0.000000</td>\n      <td>0.000000</td>\n      <td>0.000000</td>\n      <td>0.000000</td>\n      <td>0.000000</td>\n      <td>3.000000</td>\n      <td>0.148500</td>\n      <td>0.149400</td>\n      <td>0.146000</td>\n      <td>0.112300</td>\n      <td>0.111800</td>\n      <td>0.112700</td>\n      <td>1.000000</td>\n      <td>3.000000</td>\n      <td>NaN</td>\n      <td>0.051900</td>\n      <td>0.051800</td>\n      <td>0.049300</td>\n      <td>-12425.000000</td>\n      <td>-290.000000</td>\n      <td>-1717.000000</td>\n      <td>-286.000000</td>\n      <td>-1995.000000</td>\n      <td>0.000000</td>\n      <td>0.000000</td>\n      <td>0.120000</td>\n      <td>0.120000</td>\n      <td>0.120800</td>\n      <td>NaN</td>\n      <td>0.206900</td>\n      <td>0.206900</td>\n      <td>0.206900</td>\n      <td>0.673344</td>\n      <td>6.629285e-01</td>\n      <td>0.665855</td>\n      <td>1.000000</td>\n      <td>0.000000</td>\n      <td>0.000000</td>\n      <td>0.000000</td>\n      <td>0.000000</td>\n      <td>0.000000</td>\n      <td>0.000000</td>\n      <td>0.000000</td>\n      <td>0.00000</td>\n      <td>0.000000</td>\n      <td>0.000000</td>\n      <td>0.000000</td>\n      <td>0.000000</td>\n      <td>0.000000</td>\n      <td>1.000000</td>\n      <td>0.000000</td>\n      <td>0.000000</td>\n      <td>0.000000</td>\n      <td>0.000000</td>\n      <td>0.000000</td>\n      <td>0.000000</td>\n      <td>0.000000</td>\n      <td>1.000000</td>\n      <td>1.000000</td>\n      <td>NaN</td>\n      <td>NaN</td>\n      <td>1.000000</td>\n      <td>0.000000</td>\n      <td>0.333300</td>\n      <td>0.333300</td>\n      <td>0.333300</td>\n      <td>0.375000</td>\n      <td>0.375000</td>\n      <td>0.375000</td>\n      <td>NaN</td>\n      <td>14.000000</td>\n      <td>NaN</td>\n      <td>0.085800</td>\n      <td>0.087000</td>\n      <td>0.084300</td>\n      <td>0.000000</td>\n      <td>0.000000</td>\n      <td>0.121000</td>\n      <td>0.123100</td>\n      <td>0.131300</td>\n      <td>0.131000</td>\n      <td>0.131200</td>\n      <td>0.125800</td>\n      <td>NaN</td>\n      <td>NaN</td>\n      <td>NaN</td>\n      <td>NaN</td>\n      <td>NaN</td>\n      <td>NaN</td>\n      <td>0.003900</td>\n      <td>0.003900</td>\n      <td>0.003900</td>\n      <td>0.027800</td>\n      <td>0.026800</td>\n      <td>0.023200</td>\n      <td>2.000000</td>\n      <td>2.000000</td>\n      <td>NaN</td>\n      <td>NaN</td>\n      <td>15.000000</td>\n      <td>0.028663</td>\n      <td>2.000000</td>\n      <td>2.000000</td>\n      <td>0.000000</td>\n      <td>0.000000</td>\n      <td>0.000000</td>\n      <td>0.000000</td>\n      <td>367191.500000</td>\n      <td>0.000000</td>\n      <td>0.128700</td>\n      <td>NaN</td>\n      <td>NaN</td>\n      <td>0.986600</td>\n      <td>0.986600</td>\n      <td>0.986600</td>\n      <td>0.823200</td>\n      <td>0.825600</td>\n      <td>0.823600</td>\n    </tr>\n    <tr>\n      <th>max</th>\n      <td>258025.500000</td>\n      <td>4.050000e+06</td>\n      <td>4.050000e+06</td>\n      <td>1.170000e+08</td>\n      <td>9.000000</td>\n      <td>4.000000</td>\n      <td>27.000000</td>\n      <td>261.000000</td>\n      <td>8.000000</td>\n      <td>25.000000</td>\n      <td>1.000000</td>\n      <td>1.000000</td>\n      <td>1.000000</td>\n      <td>1.000000</td>\n      <td>1.000000</td>\n      <td>1.000000</td>\n      <td>20.000000</td>\n      <td>21.000000</td>\n      <td>NaN</td>\n      <td>1.000000</td>\n      <td>1.000000</td>\n      <td>1.000000</td>\n      <td>-7338.000000</td>\n      <td>365243.000000</td>\n      <td>0.000000</td>\n      <td>0.000000</td>\n      <td>0.000000</td>\n      <td>34.000000</td>\n      <td>24.000000</td>\n      <td>1.000000</td>\n      <td>1.000000</td>\n      <td>1.000000</td>\n      <td>NaN</td>\n      <td>1.000000</td>\n      <td>1.000000</td>\n      <td>1.000000</td>\n      <td>0.962693</td>\n      <td>8.549997e-01</td>\n      <td>0.896010</td>\n      <td>1.000000</td>\n      <td>1.000000</td>\n      <td>1.000000</td>\n      <td>1.000000</td>\n      <td>1.000000</td>\n      <td>1.000000</td>\n      <td>1.000000</td>\n      <td>1.000000</td>\n      <td>1.00000</td>\n      <td>1.000000</td>\n      <td>1.000000</td>\n      <td>1.000000</td>\n      <td>1.000000</td>\n      <td>1.000000</td>\n      <td>1.000000</td>\n      <td>1.000000</td>\n      <td>1.000000</td>\n      <td>1.000000</td>\n      <td>1.000000</td>\n      <td>1.000000</td>\n      <td>1.000000</td>\n      <td>1.000000</td>\n      <td>1.000000</td>\n      <td>1.000000</td>\n      <td>NaN</td>\n      <td>NaN</td>\n      <td>1.000000</td>\n      <td>1.000000</td>\n      <td>1.000000</td>\n      <td>1.000000</td>\n      <td>1.000000</td>\n      <td>1.000000</td>\n      <td>1.000000</td>\n      <td>1.000000</td>\n      <td>NaN</td>\n      <td>23.000000</td>\n      <td>NaN</td>\n      <td>1.000000</td>\n      <td>1.000000</td>\n      <td>1.000000</td>\n      <td>1.000000</td>\n      <td>1.000000</td>\n      <td>1.000000</td>\n      <td>1.000000</td>\n      <td>1.000000</td>\n      <td>1.000000</td>\n      <td>1.000000</td>\n      <td>1.000000</td>\n      <td>NaN</td>\n      <td>NaN</td>\n      <td>NaN</td>\n      <td>NaN</td>\n      <td>NaN</td>\n      <td>NaN</td>\n      <td>1.000000</td>\n      <td>1.000000</td>\n      <td>1.000000</td>\n      <td>1.000000</td>\n      <td>1.000000</td>\n      <td>1.000000</td>\n      <td>354.000000</td>\n      <td>351.000000</td>\n      <td>NaN</td>\n      <td>NaN</td>\n      <td>91.000000</td>\n      <td>0.072508</td>\n      <td>3.000000</td>\n      <td>3.000000</td>\n      <td>1.000000</td>\n      <td>1.000000</td>\n      <td>1.000000</td>\n      <td>1.000000</td>\n      <td>456255.000000</td>\n      <td>1.000000</td>\n      <td>1.000000</td>\n      <td>NaN</td>\n      <td>NaN</td>\n      <td>1.000000</td>\n      <td>1.000000</td>\n      <td>1.000000</td>\n      <td>1.000000</td>\n      <td>1.000000</td>\n      <td>1.000000</td>\n    </tr>\n  </tbody>\n</table>\n</div>"
     },
     "metadata": {},
     "output_type": "execute_result",
     "execution_count": 3
    }
   ],
   "source": [
    "df = app_train\n",
    "df = df.append(app_test)\n",
    "# çok fazla kolon bulunduğu için tabloda tamamının görünmesi için alttaki bu satır eklenir\n",
    "pd.options.display.max_columns = df.shape[1]\n",
    "df.describe(include = 'all')"
   ],
   "metadata": {
    "collapsed": false,
    "pycharm": {
     "name": "#%%\n",
     "is_executing": false
    }
   }
  },
  {
   "cell_type": "markdown",
   "source": [
    "#### DAYS_EMPLOYED kolonunun max değerinin çok büyük olduğu görünüyor.\n",
    "#### Bu aykırı değer ciddi hatalara sebep olabilir.\n"
   ],
   "metadata": {
    "collapsed": false,
    "pycharm": {
     "name": "#%% md\n",
     "is_executing": false
    }
   }
  },
  {
   "cell_type": "code",
   "execution_count": 4,
   "outputs": [
    {
     "data": {
      "text/plain": "<Figure size 432x288 with 1 Axes>",
      "image/png": "[encoded data removed]"
     },
     "metadata": {
      "needs_background": "light"
     },
     "output_type": "display_data"
    }
   ],
   "source": [
    "app_train['DAYS_EMPLOYED'].plot.hist(title = 'DAYS_EMPLOYED Histogram', bins=24, color='black', edgecolor='red', linewidth=3);\n",
    "plt.xlabel('istihdam edilen gün sayısı');"
   ],
   "metadata": {
    "collapsed": false,
    "pycharm": {
     "name": "#%%\n",
     "is_executing": false
    }
   }
  },
  {
   "cell_type": "code",
   "source": [
    "(app_train['DAYS_EMPLOYED'].max())/365"
   ],
   "metadata": {
    "collapsed": false,
    "pycharm": {
     "name": "#%%\n",
     "is_executing": false
    }
   },
   "execution_count": 5,
   "outputs": [
    {
     "data": {
      "text/plain": "1000.6657534246575"
     },
     "metadata": {},
     "output_type": "execute_result",
     "execution_count": 5
    }
   ]
  },
  {
   "cell_type": "markdown",
   "source": [
    "#### üstedede görüldüğü gibi DAYS_EMPLOYED kolonundaki max data 365243 gibi çok gerçek dışı bir sayıdır.\n",
    "#### 365 e böldüm 1000 yıl gibi bir değer geldi. Bu sebeple bu kolondaki böyle büyük değerlere Nan değeri atayacağım"
   ],
   "metadata": {
    "collapsed": false,
    "pycharm": {
     "name": "#%% md\n"
    }
   }
  },
  {
   "cell_type": "code",
   "execution_count": 6,
   "outputs": [],
   "source": [
    "df['DAYS_EMPLOYED'].replace(365243, np.nan, inplace= True)"
   ],
   "metadata": {
    "collapsed": false,
    "pycharm": {
     "name": "#%%\n",
     "is_executing": false
    }
   }
  },
  {
   "cell_type": "code",
   "execution_count": 7,
   "outputs": [
    {
     "data": {
      "text/plain": "<Figure size 432x288 with 1 Axes>",
      "image/png": "[encoded data removed]"
     },
     "metadata": {
      "needs_background": "light"
     },
     "output_type": "display_data"
    }
   ],
   "source": [
    "(df['DAYS_EMPLOYED']/(-365)).plot.hist(title='başvurudan kaç yıl önce istihdam edildi',bins=60, color='black', edgecolor='red', linewidth=1)\n",
    "plt.xlabel('istihdam edilen yıllar');\n",
    "        "
   ],
   "metadata": {
    "collapsed": false,
    "pycharm": {
     "name": "#%%\n",
     "is_executing": false
    }
   }
  },
  {
   "cell_type": "code",
   "execution_count": 8,
   "outputs": [
    {
     "data": {
      "text/plain": "NAME_CONTRACT_TYPE             2\nCODE_GENDER                    3\nFLAG_OWN_CAR                   2\nFLAG_OWN_REALTY                2\nNAME_TYPE_SUITE                7\nNAME_INCOME_TYPE               8\nNAME_EDUCATION_TYPE            5\nNAME_FAMILY_STATUS             6\nNAME_HOUSING_TYPE              6\nOCCUPATION_TYPE               18\nWEEKDAY_APPR_PROCESS_START     7\nORGANIZATION_TYPE             58\nFONDKAPREMONT_MODE             4\nHOUSETYPE_MODE                 3\nWALLSMATERIAL_MODE             7\nEMERGENCYSTATE_MODE            2\ndtype: int64"
     },
     "metadata": {},
     "output_type": "execute_result",
     "execution_count": 8
    }
   ],
   "source": [
    "# object türü değişkenlerin içerisinde bulunan uniq sayılarına baktık\n",
    "app_train.select_dtypes('object').apply(pd.Series.nunique, axis = 0)\n",
    "\n",
    "# CODE_GENDER da bi tuhaflık var normalde cinsiyet male ve fermale olarak 2 çeşittir burda 3 çıktı.\n",
    "#Biraz daha içeriğine bakalım"
   ],
   "metadata": {
    "collapsed": false,
    "pycharm": {
     "name": "#%%\n",
     "is_executing": false
    }
   }
  },
  {
   "cell_type": "code",
   "execution_count": 9,
   "outputs": [
    {
     "data": {
      "text/plain": "array(['M', 'F', 'XNA'], dtype=object)"
     },
     "metadata": {},
     "output_type": "execute_result",
     "execution_count": 9
    }
   ],
   "source": [
    "app_train['CODE_GENDER'].unique() \n"
   ],
   "metadata": {
    "collapsed": false,
    "pycharm": {
     "name": "#%%\n",
     "is_executing": false
    }
   }
  },
  {
   "cell_type": "markdown",
   "source": [
    "#### Görüldüğü gibi M ve F dışında XNA isimli bir veri var bunu silmemiz lazım"
   ],
   "metadata": {
    "collapsed": false,
    "pycharm": {
     "name": "#%% md\n"
    }
   }
  },
  {
   "cell_type": "code",
   "execution_count": 10,
   "outputs": [
    {
     "name": "stdout",
     "text": [
      "F      235126\nM      121125\nXNA         4\nName: CODE_GENDER, dtype: int64\n\nboyut:  (356255, 122)\n",
      "boyut: (356251, 122)\n"
     ],
     "output_type": "stream"
    }
   ],
   "source": [
    "print (df['CODE_GENDER'].value_counts())\n",
    "print ('\\nboyut:  {}'.format(df.shape))\n",
    "df = df[df['CODE_GENDER'] != 'XNA']\n",
    "print ('boyut: {}'.format(df.shape))\n",
    "\n",
    "# 4 adet xna içeren satır silindi"
   ],
   "metadata": {
    "collapsed": false,
    "pycharm": {
     "name": "#%% \n",
     "is_executing": false
    }
   }
  },
  {
   "cell_type": "markdown",
   "source": [
    "### <font color='#BF4E51'>Label Encoder ve One Hot Encoding</font>\n",
    "#### Bu kısım da kategorik verileri modele uygun hale getireceğiz\n",
    "#### label encoder ile text olan kategorik veriler 0, 1, 2 gibi etiketlenecek\n",
    "#### modelin hızlı çalışması için gerekli bir dönüşüm\n",
    "#### ayrıca one hot encoding ise makine öğrenmesi algoritmalarının etkin çalışması için grekli\n",
    "#### bu dönüşümde 0, 1 gibi boolean değerlerle kategorik değerler etiketlenir.\n",
    "#### ayrıca bu dönüşümler lightGbm deki bundle işlemini etkin kullanmak için de gereklidir"
   ],
   "metadata": {
    "collapsed": false,
    "pycharm": {
     "name": "#%% md\n"
    }
   }
  },
  {
   "cell_type": "code",
   "execution_count": 11,
   "outputs": [
    {
     "name": "stdout",
     "text": [
      "4 tane değişken label encoder la etiketlendi\n",
      "One hot encoding den sonra data nın yapısı: (356251, 253)\n"
     ],
     "output_type": "stream"
    }
   ],
   "source": [
    "####  Label Encoder  ####\n",
    "label_encoder = LabelEncoder()\n",
    "label_encoder_count = 0\n",
    "# bütün kolonları tarayacağız\n",
    "for col in df:\n",
    "    if df[col].dtype == 'object':\n",
    "        # 2 veya daha az benzersiz kategori varsa\n",
    "        if len(list(df[col].unique())) <= 2:\n",
    "            label_encoder.fit(df[col])\n",
    "            df[col] = label_encoder.transform(df[col])\n",
    "            label_encoder_count += 1\n",
    "print ('{} tane değişken label encoder la etiketlendi'.format(label_encoder_count))\n",
    "\n",
    "\n",
    "####  One Hot Encoding  ####\n",
    "categorical_columns = [col for col in df.columns if df[col].dtype == 'object']\n",
    "df = pd.get_dummies(df, columns= categorical_columns, dummy_na= True)\n",
    "print ('One hot encoding den sonra data nın yapısı: {}'.format(df.shape))\n",
    "\n"
   ],
   "metadata": {
    "collapsed": false,
    "pycharm": {
     "name": "#%%\n",
     "is_executing": false
    }
   }
  },
  {
   "cell_type": "markdown",
   "source": [
    " #### • DAYS_EMPLOYED_PERC: müşterinin yaşına göre istihdam edilen günlerin yüzdesi\n",
    " #### • INCOME_CREDIT_PERC: müşterinin gelirine göre kredi miktarının yüzdesi\n",
    " #### • INCOME_PER_PERSON : kişi başı gelir yüzdesi\n",
    " #### • ANNUITY_INCOME_PERC: müşterinin gelirine göre kredi yıllık taksit yüzdesi\n",
    " #### • PAYMENT_RATE : yıllık ödeme oranının yüzdesi\n",
    " #### bu özellikler bankacılık bilgisi gerektirdiği için en üstte belirttiğim çözümden alındı"
   ],
   "metadata": {
    "collapsed": false
   }
  },
  {
   "cell_type": "code",
   "execution_count": 12,
   "outputs": [],
   "source": [
    "df['DAYS_EMPLOYED_PERC'] = df['DAYS_EMPLOYED'] / df['DAYS_BIRTH']\n",
    "df['INCOME_CREDIT_PERC'] = df['AMT_INCOME_TOTAL'] / df['AMT_CREDIT']\n",
    "df['INCOME_PER_PERSON'] = df['AMT_INCOME_TOTAL'] / df['CNT_FAM_MEMBERS']\n",
    "df['ANNUITY_INCOME_PERC'] = df['AMT_ANNUITY'] / df['AMT_INCOME_TOTAL']\n",
    "df['PAYMENT_RATE'] = df['AMT_ANNUITY'] / df['AMT_CREDIT']\n"
   ],
   "metadata": {
    "collapsed": false,
    "pycharm": {
     "name": "#%%\n",
     "is_executing": false
    }
   }
  },
  {
   "cell_type": "markdown",
   "source": [
    "### <font color='#3A9CA1'>•••••••••••••••••••••••••••••••••••••••••••••••••••••••••••••••••••••••••••••••••••••••••••••••••••••••••••••</font>"
   ],
   "metadata": {
    "collapsed": false
   }
  },
  {
   "cell_type": "code",
   "execution_count": 13,
   "outputs": [
    {
     "data": {
      "text/plain": "0    282686\n1     24825\nName: TARGET, dtype: int64"
     },
     "metadata": {},
     "output_type": "execute_result",
     "execution_count": 13
    }
   ],
   "source": [
    "app_train['TARGET'].value_counts()"
   ],
   "metadata": {
    "collapsed": false,
    "pycharm": {
     "name": "#%%\n",
     "is_executing": false
    }
   }
  },
  {
   "cell_type": "code",
   "execution_count": 14,
   "outputs": [
    {
     "data": {
      "text/plain": "<Figure size 432x288 with 1 Axes>",
      "image/png": "[encoded data removed]"
     },
     "metadata": {
      "needs_background": "light"
     },
     "output_type": "display_data"
    }
   ],
   "source": [
    "app_train['TARGET'].astype(int).plot.hist( bins=24, align='left', color='black', edgecolor='red', linewidth=3);"
   ],
   "metadata": {
    "collapsed": false,
    "pycharm": {
     "name": "#%%\n",
     "is_executing": false
    }
   }
  },
  {
   "cell_type": "code",
   "execution_count": 15,
   "outputs": [
    {
     "data": {
      "text/plain": "14399"
     },
     "metadata": {},
     "output_type": "execute_result",
     "execution_count": 15
    }
   ],
   "source": [
    "del app_test, app_train\n",
    "gc.collect()\n"
   ],
   "metadata": {
    "collapsed": false,
    "pycharm": {
     "name": "#%%\n",
     "is_executing": false
    }
   }
  },
  {
   "cell_type": "markdown",
   "source": [
    "### <font color='#3A9CA1'>•••••••••••••••••••••••••••••••••••••••••••••••••••••••••••••••••••••••••••••••••••••••••••••••••••••••••••••</font>"
   ],
   "metadata": {
    "collapsed": false,
    "pycharm": {
     "name": "#%% md\n"
    }
   }
  },
  {
   "cell_type": "code",
   "execution_count": 16,
   "outputs": [],
   "source": [
    "# dataframe den object(kategorik) türü kolonları elde etmek için\n",
    "def get_kategorik_kolon(df):\n",
    "    kolonlar = [kolon for kolon in list(df.columns) if df[kolon].dtype == 'object']\n",
    "    return kolonlar\n",
    "\n",
    "# kategorik özelliklerde dummy değişken yapma\n",
    "def get_dummies(df, kategorik_kolonlar):\n",
    "    for kolon in kategorik_kolonlar:\n",
    "        df = pd.concat([df, pd.get_dummies(df[kolon], prefix=kolon)], axis=1)\n",
    "    return df\n",
    "\n",
    "# categorical özellikleri faktorize etmek için\n",
    "'''\n",
    "faktorize işlemi\n",
    " A      B      C\n",
    "0  type1  type1  type1\n",
    "1  type2  type2  type3\n",
    "2  type2  type3  type3\n",
    "-----------------------------\n",
    "    A  B  C\n",
    "0   0  0  0\n",
    "1   1  1  1\n",
    "2   1  2  1\n",
    "'''\n",
    "def kategorik_faktorize_fonk(df, cats):\n",
    "    for kolon in cats:\n",
    "        df[kolon], _ = pd.factorize(df[kolon])\n",
    "    return df "
   ],
   "metadata": {
    "collapsed": false,
    "pycharm": {
     "name": "#%%\n",
     "is_executing": false
    }
   }
  },
  {
   "cell_type": "markdown",
   "source": [
    "### <font color='#3A9CA1'>•••••••••••••••••••••••••••••••••••••••••••••••••••••••••••••••••••••••••••••••••••••••••••••••••••••••••••••</font>"
   ],
   "metadata": {
    "collapsed": false
   }
  },
  {
   "cell_type": "markdown",
   "source": [
    "###  <font color='#BF4E51'>bureau ve bureau_balance tablosu</font>\n",
    "#### bu tablolar yapılan bir kredi başvurusuna ait geçmiş başvuru bilgilerini tutar\n",
    "#### bureau da bir başvurunun geçmişde birçok geçmiş başvurusu olabilir.\n",
    "#### müşterinin diğer finansal kurumlardan aldığı önceki kredilere ilişkin verilerden oluşur. \n",
    "#### bureau_balance ise herbir geçmiş başvurunun aylık geri ödemesi ile ilgilidir.\n",
    "#### ve yine bu geçmiş başvuruları nasıl kullandığı bilgilerini içerir\n",
    "\n",
    "Bu veri kümesinde müşterinin diğer finansal kurumlardan aldığı önceki kredilere ilişkin verilerden oluşur. "
   ],
   "metadata": {
    "collapsed": false,
    "pycharm": {
     "name": "#%% md\n"
    }
   }
  },
  {
   "cell_type": "code",
   "execution_count": 17,
   "outputs": [],
   "source": [
    "bureau = pd.read_csv(Path(\"data/bureau.csv\"))\n",
    "bureau_balance = pd.read_csv(Path(\"data/bureau_balance.csv\"), nrows = None)"
   ],
   "metadata": {
    "collapsed": false,
    "pycharm": {
     "name": "#%%\n",
     "is_executing": false
    }
   }
  },
  {
   "cell_type": "code",
   "execution_count": 18,
   "outputs": [
    {
     "data": {
      "text/plain": "   SK_ID_CURR  SK_ID_BUREAU CREDIT_ACTIVE CREDIT_CURRENCY  DAYS_CREDIT  \\\n0      215354       5714462        Closed      currency 1         -497   \n1      215354       5714463        Active      currency 1         -208   \n2      215354       5714464        Active      currency 1         -203   \n3      215354       5714465        Active      currency 1         -203   \n4      215354       5714466        Active      currency 1         -629   \n\n   CREDIT_DAY_OVERDUE  DAYS_CREDIT_ENDDATE  DAYS_ENDDATE_FACT  \\\n0                   0               -153.0             -153.0   \n1                   0               1075.0                NaN   \n2                   0                528.0                NaN   \n3                   0                  NaN                NaN   \n4                   0               1197.0                NaN   \n\n   AMT_CREDIT_MAX_OVERDUE  CNT_CREDIT_PROLONG  AMT_CREDIT_SUM  \\\n0                     NaN                   0         91323.0   \n1                     NaN                   0        225000.0   \n2                     NaN                   0        464323.5   \n3                     NaN                   0         90000.0   \n4                 77674.5                   0       2700000.0   \n\n   AMT_CREDIT_SUM_DEBT  AMT_CREDIT_SUM_LIMIT  AMT_CREDIT_SUM_OVERDUE  \\\n0                  0.0                   NaN                     0.0   \n1             171342.0                   NaN                     0.0   \n2                  NaN                   NaN                     0.0   \n3                  NaN                   NaN                     0.0   \n4                  NaN                   NaN                     0.0   \n\n       CREDIT_TYPE  DAYS_CREDIT_UPDATE  AMT_ANNUITY  \n0  Consumer credit                -131          NaN  \n1      Credit card                 -20          NaN  \n2  Consumer credit                 -16          NaN  \n3      Credit card                 -16          NaN  \n4  Consumer credit                 -21          NaN  ",
      "text/html": "<div>\n<style scoped>\n    .dataframe tbody tr th:only-of-type {\n        vertical-align: middle;\n    }\n\n    .dataframe tbody tr th {\n        vertical-align: top;\n    }\n\n    .dataframe thead th {\n        text-align: right;\n    }\n</style>\n<table border=\"1\" class=\"dataframe\">\n  <thead>\n    <tr style=\"text-align: right;\">\n      <th></th>\n      <th>SK_ID_CURR</th>\n      <th>SK_ID_BUREAU</th>\n      <th>CREDIT_ACTIVE</th>\n      <th>CREDIT_CURRENCY</th>\n      <th>DAYS_CREDIT</th>\n      <th>CREDIT_DAY_OVERDUE</th>\n      <th>DAYS_CREDIT_ENDDATE</th>\n      <th>DAYS_ENDDATE_FACT</th>\n      <th>AMT_CREDIT_MAX_OVERDUE</th>\n      <th>CNT_CREDIT_PROLONG</th>\n      <th>AMT_CREDIT_SUM</th>\n      <th>AMT_CREDIT_SUM_DEBT</th>\n      <th>AMT_CREDIT_SUM_LIMIT</th>\n      <th>AMT_CREDIT_SUM_OVERDUE</th>\n      <th>CREDIT_TYPE</th>\n      <th>DAYS_CREDIT_UPDATE</th>\n      <th>AMT_ANNUITY</th>\n    </tr>\n  </thead>\n  <tbody>\n    <tr>\n      <th>0</th>\n      <td>215354</td>\n      <td>5714462</td>\n      <td>Closed</td>\n      <td>currency 1</td>\n      <td>-497</td>\n      <td>0</td>\n      <td>-153.0</td>\n      <td>-153.0</td>\n      <td>NaN</td>\n      <td>0</td>\n      <td>91323.0</td>\n      <td>0.0</td>\n      <td>NaN</td>\n      <td>0.0</td>\n      <td>Consumer credit</td>\n      <td>-131</td>\n      <td>NaN</td>\n    </tr>\n    <tr>\n      <th>1</th>\n      <td>215354</td>\n      <td>5714463</td>\n      <td>Active</td>\n      <td>currency 1</td>\n      <td>-208</td>\n      <td>0</td>\n      <td>1075.0</td>\n      <td>NaN</td>\n      <td>NaN</td>\n      <td>0</td>\n      <td>225000.0</td>\n      <td>171342.0</td>\n      <td>NaN</td>\n      <td>0.0</td>\n      <td>Credit card</td>\n      <td>-20</td>\n      <td>NaN</td>\n    </tr>\n    <tr>\n      <th>2</th>\n      <td>215354</td>\n      <td>5714464</td>\n      <td>Active</td>\n      <td>currency 1</td>\n      <td>-203</td>\n      <td>0</td>\n      <td>528.0</td>\n      <td>NaN</td>\n      <td>NaN</td>\n      <td>0</td>\n      <td>464323.5</td>\n      <td>NaN</td>\n      <td>NaN</td>\n      <td>0.0</td>\n      <td>Consumer credit</td>\n      <td>-16</td>\n      <td>NaN</td>\n    </tr>\n    <tr>\n      <th>3</th>\n      <td>215354</td>\n      <td>5714465</td>\n      <td>Active</td>\n      <td>currency 1</td>\n      <td>-203</td>\n      <td>0</td>\n      <td>NaN</td>\n      <td>NaN</td>\n      <td>NaN</td>\n      <td>0</td>\n      <td>90000.0</td>\n      <td>NaN</td>\n      <td>NaN</td>\n      <td>0.0</td>\n      <td>Credit card</td>\n      <td>-16</td>\n      <td>NaN</td>\n    </tr>\n    <tr>\n      <th>4</th>\n      <td>215354</td>\n      <td>5714466</td>\n      <td>Active</td>\n      <td>currency 1</td>\n      <td>-629</td>\n      <td>0</td>\n      <td>1197.0</td>\n      <td>NaN</td>\n      <td>77674.5</td>\n      <td>0</td>\n      <td>2700000.0</td>\n      <td>NaN</td>\n      <td>NaN</td>\n      <td>0.0</td>\n      <td>Consumer credit</td>\n      <td>-21</td>\n      <td>NaN</td>\n    </tr>\n  </tbody>\n</table>\n</div>"
     },
     "metadata": {},
     "output_type": "execute_result",
     "execution_count": 18
    }
   ],
   "source": [
    "bureau.head()"
   ],
   "metadata": {
    "collapsed": false,
    "pycharm": {
     "name": "#%%\n",
     "is_executing": false
    }
   }
  },
  {
   "cell_type": "code",
   "execution_count": 19,
   "outputs": [
    {
     "data": {
      "text/plain": "   SK_ID_BUREAU  MONTHS_BALANCE STATUS\n0       5715448               0      C\n1       5715448              -1      C\n2       5715448              -2      C\n3       5715448              -3      C\n4       5715448              -4      C",
      "text/html": "<div>\n<style scoped>\n    .dataframe tbody tr th:only-of-type {\n        vertical-align: middle;\n    }\n\n    .dataframe tbody tr th {\n        vertical-align: top;\n    }\n\n    .dataframe thead th {\n        text-align: right;\n    }\n</style>\n<table border=\"1\" class=\"dataframe\">\n  <thead>\n    <tr style=\"text-align: right;\">\n      <th></th>\n      <th>SK_ID_BUREAU</th>\n      <th>MONTHS_BALANCE</th>\n      <th>STATUS</th>\n    </tr>\n  </thead>\n  <tbody>\n    <tr>\n      <th>0</th>\n      <td>5715448</td>\n      <td>0</td>\n      <td>C</td>\n    </tr>\n    <tr>\n      <th>1</th>\n      <td>5715448</td>\n      <td>-1</td>\n      <td>C</td>\n    </tr>\n    <tr>\n      <th>2</th>\n      <td>5715448</td>\n      <td>-2</td>\n      <td>C</td>\n    </tr>\n    <tr>\n      <th>3</th>\n      <td>5715448</td>\n      <td>-3</td>\n      <td>C</td>\n    </tr>\n    <tr>\n      <th>4</th>\n      <td>5715448</td>\n      <td>-4</td>\n      <td>C</td>\n    </tr>\n  </tbody>\n</table>\n</div>"
     },
     "metadata": {},
     "output_type": "execute_result",
     "execution_count": 19
    }
   ],
   "source": [
    "bureau_balance.head()"
   ],
   "metadata": {
    "collapsed": false,
    "pycharm": {
     "name": "#%%\n",
     "is_executing": false
    }
   }
  },
  {
   "cell_type": "code",
   "execution_count": 20,
   "outputs": [],
   "source": [
    "bureau_kategorik = get_kategorik_kolon(bureau)\n",
    "bureau_balance_kategorik = get_kategorik_kolon(bureau_balance)\n",
    "\n",
    "bureau = get_dummies(bureau,bureau_kategorik)\n",
    "bureau_balance = get_dummies(bureau_balance,bureau_balance_kategorik)"
   ],
   "metadata": {
    "collapsed": false,
    "pycharm": {
     "name": "#%%\n",
     "is_executing": false
    }
   }
  },
  {
   "cell_type": "code",
   "execution_count": 21,
   "outputs": [
    {
     "data": {
      "text/plain": "0"
     },
     "metadata": {},
     "output_type": "execute_result",
     "execution_count": 21
    }
   ],
   "source": [
    "# bureau daki geçmiş başvuruların kendi arasında ortalaması alınır\n",
    "bureau_ort = bureau.groupby('SK_ID_CURR').mean()\n",
    "bureau_ort['buro_count'] = bureau[['SK_ID_BUREAU','SK_ID_CURR']].groupby('SK_ID_CURR').count()['SK_ID_BUREAU']\n",
    "bureau_ort.columns = ['b_' + f_ for f_ in bureau_ort.columns]\n",
    "df = df.merge(right=bureau_ort.reset_index(), how='left', on='SK_ID_CURR')\n",
    "\n",
    "del bureau_balance, bureau_ort\n",
    "gc.collect()\n"
   ],
   "metadata": {
    "collapsed": false,
    "pycharm": {
     "name": "#%%\n",
     "is_executing": false
    }
   }
  },
  {
   "cell_type": "code",
   "execution_count": 22,
   "outputs": [
    {
     "data": {
      "text/plain": "   AMT_ANNUITY  AMT_CREDIT  AMT_GOODS_PRICE  AMT_INCOME_TOTAL  \\\n0      24700.5    406597.5         351000.0          202500.0   \n1      35698.5   1293502.5        1129500.0          270000.0   \n2       6750.0    135000.0         135000.0           67500.0   \n3      29686.5    312682.5         297000.0          135000.0   \n4      21865.5    513000.0         513000.0          121500.0   \n\n   AMT_REQ_CREDIT_BUREAU_DAY  AMT_REQ_CREDIT_BUREAU_HOUR  \\\n0                        0.0                         0.0   \n1                        0.0                         0.0   \n2                        0.0                         0.0   \n3                        NaN                         NaN   \n4                        0.0                         0.0   \n\n   AMT_REQ_CREDIT_BUREAU_MON  AMT_REQ_CREDIT_BUREAU_QRT  \\\n0                        0.0                        0.0   \n1                        0.0                        0.0   \n2                        0.0                        0.0   \n3                        NaN                        NaN   \n4                        0.0                        0.0   \n\n   AMT_REQ_CREDIT_BUREAU_WEEK  AMT_REQ_CREDIT_BUREAU_YEAR  APARTMENTS_AVG  \\\n0                         0.0                         1.0          0.0247   \n1                         0.0                         0.0          0.0959   \n2                         0.0                         0.0             NaN   \n3                         NaN                         NaN             NaN   \n4                         0.0                         0.0             NaN   \n\n   APARTMENTS_MEDI  APARTMENTS_MODE  BASEMENTAREA_AVG  BASEMENTAREA_MEDI  \\\n0           0.0250           0.0252            0.0369             0.0369   \n1           0.0968           0.0924            0.0529             0.0529   \n2              NaN              NaN               NaN                NaN   \n3              NaN              NaN               NaN                NaN   \n4              NaN              NaN               NaN                NaN   \n\n   BASEMENTAREA_MODE  CNT_CHILDREN  CNT_FAM_MEMBERS  CODE_GENDER  \\\n0             0.0383             0              1.0            1   \n1             0.0538             0              2.0            0   \n2                NaN             0              1.0            1   \n3                NaN             0              2.0            0   \n4                NaN             0              1.0            1   \n\n   COMMONAREA_AVG  COMMONAREA_MEDI  COMMONAREA_MODE  DAYS_BIRTH  \\\n0          0.0143           0.0144           0.0144       -9461   \n1          0.0605           0.0608           0.0497      -16765   \n2             NaN              NaN              NaN      -19046   \n3             NaN              NaN              NaN      -19005   \n4             NaN              NaN              NaN      -19932   \n\n   DAYS_EMPLOYED  DAYS_ID_PUBLISH  DAYS_LAST_PHONE_CHANGE  DAYS_REGISTRATION  \\\n0         -637.0            -2120                 -1134.0            -3648.0   \n1        -1188.0             -291                  -828.0            -1186.0   \n2         -225.0            -2531                  -815.0            -4260.0   \n3        -3039.0            -2437                  -617.0            -9833.0   \n4        -3038.0            -3458                 -1106.0            -4311.0   \n\n   DEF_30_CNT_SOCIAL_CIRCLE  DEF_60_CNT_SOCIAL_CIRCLE  ELEVATORS_AVG  \\\n0                       2.0                       2.0           0.00   \n1                       0.0                       0.0           0.08   \n2                       0.0                       0.0            NaN   \n3                       0.0                       0.0            NaN   \n4                       0.0                       0.0            NaN   \n\n   ELEVATORS_MEDI  ELEVATORS_MODE  ENTRANCES_AVG  ENTRANCES_MEDI  \\\n0            0.00          0.0000         0.0690          0.0690   \n1            0.08          0.0806         0.0345          0.0345   \n2             NaN             NaN            NaN             NaN   \n3             NaN             NaN            NaN             NaN   \n4             NaN             NaN            NaN             NaN   \n\n   ENTRANCES_MODE  EXT_SOURCE_1  EXT_SOURCE_2  EXT_SOURCE_3  FLAG_CONT_MOBILE  \\\n0          0.0690      0.083037      0.262949      0.139376                 1   \n1          0.0345      0.311267      0.622246           NaN                 1   \n2             NaN           NaN      0.555912      0.729567                 1   \n3             NaN           NaN      0.650442           NaN                 1   \n4             NaN           NaN      0.322738           NaN                 1   \n\n   FLAG_DOCUMENT_10  FLAG_DOCUMENT_11  FLAG_DOCUMENT_12  FLAG_DOCUMENT_13  \\\n0                 0                 0                 0                 0   \n1                 0                 0                 0                 0   \n2                 0                 0                 0                 0   \n3                 0                 0                 0                 0   \n4                 0                 0                 0                 0   \n\n   FLAG_DOCUMENT_14  FLAG_DOCUMENT_15  FLAG_DOCUMENT_16  FLAG_DOCUMENT_17  \\\n0                 0                 0                 0                 0   \n1                 0                 0                 0                 0   \n2                 0                 0                 0                 0   \n3                 0                 0                 0                 0   \n4                 0                 0                 0                 0   \n\n   FLAG_DOCUMENT_18  FLAG_DOCUMENT_19  FLAG_DOCUMENT_2  FLAG_DOCUMENT_20  \\\n0                 0                 0                0                 0   \n1                 0                 0                0                 0   \n2                 0                 0                0                 0   \n3                 0                 0                0                 0   \n4                 0                 0                0                 0   \n\n   FLAG_DOCUMENT_21  FLAG_DOCUMENT_3  FLAG_DOCUMENT_4  FLAG_DOCUMENT_5  \\\n0                 0                1                0                0   \n1                 0                1                0                0   \n2                 0                0                0                0   \n3                 0                1                0                0   \n4                 0                0                0                0   \n\n   FLAG_DOCUMENT_6  FLAG_DOCUMENT_7  FLAG_DOCUMENT_8  FLAG_DOCUMENT_9  \\\n0                0                0                0                0   \n1                0                0                0                0   \n2                0                0                0                0   \n3                0                0                0                0   \n4                0                0                1                0   \n\n   FLAG_EMAIL  FLAG_EMP_PHONE  ...  ORGANIZATION_TYPE_University  \\\n0           0               1  ...                             0   \n1           0               1  ...                             0   \n2           0               1  ...                             0   \n3           0               1  ...                             0   \n4           0               1  ...                             0   \n\n   ORGANIZATION_TYPE_XNA  ORGANIZATION_TYPE_nan  WALLSMATERIAL_MODE_Block  \\\n0                      0                      0                         0   \n1                      0                      0                         1   \n2                      0                      0                         0   \n3                      0                      0                         0   \n4                      0                      0                         0   \n\n   WALLSMATERIAL_MODE_Mixed  WALLSMATERIAL_MODE_Monolithic  \\\n0                         0                              0   \n1                         0                              0   \n2                         0                              0   \n3                         0                              0   \n4                         0                              0   \n\n   WALLSMATERIAL_MODE_Others  WALLSMATERIAL_MODE_Panel  \\\n0                          0                         0   \n1                          0                         0   \n2                          0                         0   \n3                          0                         0   \n4                          0                         0   \n\n   WALLSMATERIAL_MODE_Stone, brick  WALLSMATERIAL_MODE_Wooden  \\\n0                                1                          0   \n1                                0                          0   \n2                                0                          0   \n3                                0                          0   \n4                                0                          0   \n\n   WALLSMATERIAL_MODE_nan  WEEKDAY_APPR_PROCESS_START_FRIDAY  \\\n0                       0                                  0   \n1                       0                                  0   \n2                       1                                  0   \n3                       1                                  0   \n4                       1                                  0   \n\n   WEEKDAY_APPR_PROCESS_START_MONDAY  WEEKDAY_APPR_PROCESS_START_SATURDAY  \\\n0                                  0                                    0   \n1                                  1                                    0   \n2                                  1                                    0   \n3                                  0                                    0   \n4                                  0                                    0   \n\n   WEEKDAY_APPR_PROCESS_START_SUNDAY  WEEKDAY_APPR_PROCESS_START_THURSDAY  \\\n0                                  0                                    0   \n1                                  0                                    0   \n2                                  0                                    0   \n3                                  0                                    0   \n4                                  0                                    1   \n\n   WEEKDAY_APPR_PROCESS_START_TUESDAY  WEEKDAY_APPR_PROCESS_START_WEDNESDAY  \\\n0                                   0                                     1   \n1                                   0                                     0   \n2                                   0                                     0   \n3                                   0                                     1   \n4                                   0                                     0   \n\n   WEEKDAY_APPR_PROCESS_START_nan  DAYS_EMPLOYED_PERC  INCOME_CREDIT_PERC  \\\n0                               0            0.067329            0.498036   \n1                               0            0.070862            0.208736   \n2                               0            0.011814            0.500000   \n3                               0            0.159905            0.431748   \n4                               0            0.152418            0.236842   \n\n   INCOME_PER_PERSON  ANNUITY_INCOME_PERC  PAYMENT_RATE  b_SK_ID_BUREAU  \\\n0           202500.0             0.121978      0.060749     6153272.125   \n1           135000.0             0.132217      0.027598     5885878.500   \n2            67500.0             0.100000      0.050000     6829133.500   \n3            67500.0             0.219900      0.094941             NaN   \n4           121500.0             0.179963      0.042623     5987200.000   \n\n   b_DAYS_CREDIT  b_CREDIT_DAY_OVERDUE  b_DAYS_CREDIT_ENDDATE  \\\n0        -874.00                   0.0                 -349.0   \n1       -1400.75                   0.0                 -544.5   \n2        -867.00                   0.0                 -488.5   \n3            NaN                   NaN                    NaN   \n4       -1149.00                   0.0                 -783.0   \n\n   b_DAYS_ENDDATE_FACT  b_AMT_CREDIT_MAX_OVERDUE  b_CNT_CREDIT_PROLONG  \\\n0          -697.500000                  1681.029                   0.0   \n1         -1097.333333                     0.000                   0.0   \n2          -532.500000                     0.000                   0.0   \n3                  NaN                       NaN                   NaN   \n4          -783.000000                     0.000                   0.0   \n\n   b_AMT_CREDIT_SUM  b_AMT_CREDIT_SUM_DEBT  b_AMT_CREDIT_SUM_LIMIT  \\\n0     108131.945625                49156.2              7997.14125   \n1     254350.125000                    0.0            202500.00000   \n2      94518.900000                    0.0                 0.00000   \n3               NaN                    NaN                     NaN   \n4     146250.000000                    0.0                 0.00000   \n\n   b_AMT_CREDIT_SUM_OVERDUE  b_DAYS_CREDIT_UPDATE  b_AMT_ANNUITY  \\\n0                       0.0              -499.875            0.0   \n1                       0.0              -816.000            NaN   \n2                       0.0              -532.000            NaN   \n3                       NaN                   NaN            NaN   \n4                       0.0              -783.000            NaN   \n\n   b_CREDIT_ACTIVE_Active  b_CREDIT_ACTIVE_Bad debt  b_CREDIT_ACTIVE_Closed  \\\n0                    0.25                       0.0                    0.75   \n1                    0.25                       0.0                    0.75   \n2                    0.00                       0.0                    1.00   \n3                     NaN                       NaN                     NaN   \n4                    0.00                       0.0                    1.00   \n\n   b_CREDIT_ACTIVE_Sold  b_CREDIT_CURRENCY_currency 1  \\\n0                   0.0                           1.0   \n1                   0.0                           1.0   \n2                   0.0                           1.0   \n3                   NaN                           NaN   \n4                   0.0                           1.0   \n\n   b_CREDIT_CURRENCY_currency 2  b_CREDIT_CURRENCY_currency 3  \\\n0                           0.0                           0.0   \n1                           0.0                           0.0   \n2                           0.0                           0.0   \n3                           NaN                           NaN   \n4                           0.0                           0.0   \n\n   b_CREDIT_CURRENCY_currency 4  b_CREDIT_TYPE_Another type of loan  \\\n0                           0.0                                 0.0   \n1                           0.0                                 0.0   \n2                           0.0                                 0.0   \n3                           NaN                                 NaN   \n4                           0.0                                 0.0   \n\n   b_CREDIT_TYPE_Car loan  b_CREDIT_TYPE_Cash loan (non-earmarked)  \\\n0                     0.0                                      0.0   \n1                     0.0                                      0.0   \n2                     0.0                                      0.0   \n3                     NaN                                      NaN   \n4                     0.0                                      0.0   \n\n   b_CREDIT_TYPE_Consumer credit  b_CREDIT_TYPE_Credit card  \\\n0                            0.5                        0.5   \n1                            0.5                        0.5   \n2                            1.0                        0.0   \n3                            NaN                        NaN   \n4                            1.0                        0.0   \n\n   b_CREDIT_TYPE_Interbank credit  \\\n0                             0.0   \n1                             0.0   \n2                             0.0   \n3                             NaN   \n4                             0.0   \n\n   b_CREDIT_TYPE_Loan for business development  \\\n0                                          0.0   \n1                                          0.0   \n2                                          0.0   \n3                                          NaN   \n4                                          0.0   \n\n   b_CREDIT_TYPE_Loan for purchase of shares (margin lending)  \\\n0                                                0.0            \n1                                                0.0            \n2                                                0.0            \n3                                                NaN            \n4                                                0.0            \n\n   b_CREDIT_TYPE_Loan for the purchase of equipment  \\\n0                                               0.0   \n1                                               0.0   \n2                                               0.0   \n3                                               NaN   \n4                                               0.0   \n\n   b_CREDIT_TYPE_Loan for working capital replenishment  \\\n0                                                0.0      \n1                                                0.0      \n2                                                0.0      \n3                                                NaN      \n4                                                0.0      \n\n   b_CREDIT_TYPE_Microloan  b_CREDIT_TYPE_Mobile operator loan  \\\n0                      0.0                                 0.0   \n1                      0.0                                 0.0   \n2                      0.0                                 0.0   \n3                      NaN                                 NaN   \n4                      0.0                                 0.0   \n\n   b_CREDIT_TYPE_Mortgage  b_CREDIT_TYPE_Real estate loan  \\\n0                     0.0                             0.0   \n1                     0.0                             0.0   \n2                     0.0                             0.0   \n3                     NaN                             NaN   \n4                     0.0                             0.0   \n\n   b_CREDIT_TYPE_Unknown type of loan  b_buro_count  \n0                                 0.0           8.0  \n1                                 0.0           4.0  \n2                                 0.0           2.0  \n3                                 NaN           NaN  \n4                                 0.0           1.0  \n\n[5 rows x 295 columns]",
      "text/html": "<div>\n<style scoped>\n    .dataframe tbody tr th:only-of-type {\n        vertical-align: middle;\n    }\n\n    .dataframe tbody tr th {\n        vertical-align: top;\n    }\n\n    .dataframe thead th {\n        text-align: right;\n    }\n</style>\n<table border=\"1\" class=\"dataframe\">\n  <thead>\n    <tr style=\"text-align: right;\">\n      <th></th>\n      <th>AMT_ANNUITY</th>\n      <th>AMT_CREDIT</th>\n      <th>AMT_GOODS_PRICE</th>\n      <th>AMT_INCOME_TOTAL</th>\n      <th>AMT_REQ_CREDIT_BUREAU_DAY</th>\n      <th>AMT_REQ_CREDIT_BUREAU_HOUR</th>\n      <th>AMT_REQ_CREDIT_BUREAU_MON</th>\n      <th>AMT_REQ_CREDIT_BUREAU_QRT</th>\n      <th>AMT_REQ_CREDIT_BUREAU_WEEK</th>\n      <th>AMT_REQ_CREDIT_BUREAU_YEAR</th>\n      <th>APARTMENTS_AVG</th>\n      <th>APARTMENTS_MEDI</th>\n      <th>APARTMENTS_MODE</th>\n      <th>BASEMENTAREA_AVG</th>\n      <th>BASEMENTAREA_MEDI</th>\n      <th>BASEMENTAREA_MODE</th>\n      <th>CNT_CHILDREN</th>\n      <th>CNT_FAM_MEMBERS</th>\n      <th>CODE_GENDER</th>\n      <th>COMMONAREA_AVG</th>\n      <th>COMMONAREA_MEDI</th>\n      <th>COMMONAREA_MODE</th>\n      <th>DAYS_BIRTH</th>\n      <th>DAYS_EMPLOYED</th>\n      <th>DAYS_ID_PUBLISH</th>\n      <th>DAYS_LAST_PHONE_CHANGE</th>\n      <th>DAYS_REGISTRATION</th>\n      <th>DEF_30_CNT_SOCIAL_CIRCLE</th>\n      <th>DEF_60_CNT_SOCIAL_CIRCLE</th>\n      <th>ELEVATORS_AVG</th>\n      <th>ELEVATORS_MEDI</th>\n      <th>ELEVATORS_MODE</th>\n      <th>ENTRANCES_AVG</th>\n      <th>ENTRANCES_MEDI</th>\n      <th>ENTRANCES_MODE</th>\n      <th>EXT_SOURCE_1</th>\n      <th>EXT_SOURCE_2</th>\n      <th>EXT_SOURCE_3</th>\n      <th>FLAG_CONT_MOBILE</th>\n      <th>FLAG_DOCUMENT_10</th>\n      <th>FLAG_DOCUMENT_11</th>\n      <th>FLAG_DOCUMENT_12</th>\n      <th>FLAG_DOCUMENT_13</th>\n      <th>FLAG_DOCUMENT_14</th>\n      <th>FLAG_DOCUMENT_15</th>\n      <th>FLAG_DOCUMENT_16</th>\n      <th>FLAG_DOCUMENT_17</th>\n      <th>FLAG_DOCUMENT_18</th>\n      <th>FLAG_DOCUMENT_19</th>\n      <th>FLAG_DOCUMENT_2</th>\n      <th>FLAG_DOCUMENT_20</th>\n      <th>FLAG_DOCUMENT_21</th>\n      <th>FLAG_DOCUMENT_3</th>\n      <th>FLAG_DOCUMENT_4</th>\n      <th>FLAG_DOCUMENT_5</th>\n      <th>FLAG_DOCUMENT_6</th>\n      <th>FLAG_DOCUMENT_7</th>\n      <th>FLAG_DOCUMENT_8</th>\n      <th>FLAG_DOCUMENT_9</th>\n      <th>FLAG_EMAIL</th>\n      <th>FLAG_EMP_PHONE</th>\n      <th>...</th>\n      <th>ORGANIZATION_TYPE_University</th>\n      <th>ORGANIZATION_TYPE_XNA</th>\n      <th>ORGANIZATION_TYPE_nan</th>\n      <th>WALLSMATERIAL_MODE_Block</th>\n      <th>WALLSMATERIAL_MODE_Mixed</th>\n      <th>WALLSMATERIAL_MODE_Monolithic</th>\n      <th>WALLSMATERIAL_MODE_Others</th>\n      <th>WALLSMATERIAL_MODE_Panel</th>\n      <th>WALLSMATERIAL_MODE_Stone, brick</th>\n      <th>WALLSMATERIAL_MODE_Wooden</th>\n      <th>WALLSMATERIAL_MODE_nan</th>\n      <th>WEEKDAY_APPR_PROCESS_START_FRIDAY</th>\n      <th>WEEKDAY_APPR_PROCESS_START_MONDAY</th>\n      <th>WEEKDAY_APPR_PROCESS_START_SATURDAY</th>\n      <th>WEEKDAY_APPR_PROCESS_START_SUNDAY</th>\n      <th>WEEKDAY_APPR_PROCESS_START_THURSDAY</th>\n      <th>WEEKDAY_APPR_PROCESS_START_TUESDAY</th>\n      <th>WEEKDAY_APPR_PROCESS_START_WEDNESDAY</th>\n      <th>WEEKDAY_APPR_PROCESS_START_nan</th>\n      <th>DAYS_EMPLOYED_PERC</th>\n      <th>INCOME_CREDIT_PERC</th>\n      <th>INCOME_PER_PERSON</th>\n      <th>ANNUITY_INCOME_PERC</th>\n      <th>PAYMENT_RATE</th>\n      <th>b_SK_ID_BUREAU</th>\n      <th>b_DAYS_CREDIT</th>\n      <th>b_CREDIT_DAY_OVERDUE</th>\n      <th>b_DAYS_CREDIT_ENDDATE</th>\n      <th>b_DAYS_ENDDATE_FACT</th>\n      <th>b_AMT_CREDIT_MAX_OVERDUE</th>\n      <th>b_CNT_CREDIT_PROLONG</th>\n      <th>b_AMT_CREDIT_SUM</th>\n      <th>b_AMT_CREDIT_SUM_DEBT</th>\n      <th>b_AMT_CREDIT_SUM_LIMIT</th>\n      <th>b_AMT_CREDIT_SUM_OVERDUE</th>\n      <th>b_DAYS_CREDIT_UPDATE</th>\n      <th>b_AMT_ANNUITY</th>\n      <th>b_CREDIT_ACTIVE_Active</th>\n      <th>b_CREDIT_ACTIVE_Bad debt</th>\n      <th>b_CREDIT_ACTIVE_Closed</th>\n      <th>b_CREDIT_ACTIVE_Sold</th>\n      <th>b_CREDIT_CURRENCY_currency 1</th>\n      <th>b_CREDIT_CURRENCY_currency 2</th>\n      <th>b_CREDIT_CURRENCY_currency 3</th>\n      <th>b_CREDIT_CURRENCY_currency 4</th>\n      <th>b_CREDIT_TYPE_Another type of loan</th>\n      <th>b_CREDIT_TYPE_Car loan</th>\n      <th>b_CREDIT_TYPE_Cash loan (non-earmarked)</th>\n      <th>b_CREDIT_TYPE_Consumer credit</th>\n      <th>b_CREDIT_TYPE_Credit card</th>\n      <th>b_CREDIT_TYPE_Interbank credit</th>\n      <th>b_CREDIT_TYPE_Loan for business development</th>\n      <th>b_CREDIT_TYPE_Loan for purchase of shares (margin lending)</th>\n      <th>b_CREDIT_TYPE_Loan for the purchase of equipment</th>\n      <th>b_CREDIT_TYPE_Loan for working capital replenishment</th>\n      <th>b_CREDIT_TYPE_Microloan</th>\n      <th>b_CREDIT_TYPE_Mobile operator loan</th>\n      <th>b_CREDIT_TYPE_Mortgage</th>\n      <th>b_CREDIT_TYPE_Real estate loan</th>\n      <th>b_CREDIT_TYPE_Unknown type of loan</th>\n      <th>b_buro_count</th>\n    </tr>\n  </thead>\n  <tbody>\n    <tr>\n      <th>0</th>\n      <td>24700.5</td>\n      <td>406597.5</td>\n      <td>351000.0</td>\n      <td>202500.0</td>\n      <td>0.0</td>\n      <td>0.0</td>\n      <td>0.0</td>\n      <td>0.0</td>\n      <td>0.0</td>\n      <td>1.0</td>\n      <td>0.0247</td>\n      <td>0.0250</td>\n      <td>0.0252</td>\n      <td>0.0369</td>\n      <td>0.0369</td>\n      <td>0.0383</td>\n      <td>0</td>\n      <td>1.0</td>\n      <td>1</td>\n      <td>0.0143</td>\n      <td>0.0144</td>\n      <td>0.0144</td>\n      <td>-9461</td>\n      <td>-637.0</td>\n      <td>-2120</td>\n      <td>-1134.0</td>\n      <td>-3648.0</td>\n      <td>2.0</td>\n      <td>2.0</td>\n      <td>0.00</td>\n      <td>0.00</td>\n      <td>0.0000</td>\n      <td>0.0690</td>\n      <td>0.0690</td>\n      <td>0.0690</td>\n      <td>0.083037</td>\n      <td>0.262949</td>\n      <td>0.139376</td>\n      <td>1</td>\n      <td>0</td>\n      <td>0</td>\n      <td>0</td>\n      <td>0</td>\n      <td>0</td>\n      <td>0</td>\n      <td>0</td>\n      <td>0</td>\n      <td>0</td>\n      <td>0</td>\n      <td>0</td>\n      <td>0</td>\n      <td>0</td>\n      <td>1</td>\n      <td>0</td>\n      <td>0</td>\n      <td>0</td>\n      <td>0</td>\n      <td>0</td>\n      <td>0</td>\n      <td>0</td>\n      <td>1</td>\n      <td>...</td>\n      <td>0</td>\n      <td>0</td>\n      <td>0</td>\n      <td>0</td>\n      <td>0</td>\n      <td>0</td>\n      <td>0</td>\n      <td>0</td>\n      <td>1</td>\n      <td>0</td>\n      <td>0</td>\n      <td>0</td>\n      <td>0</td>\n      <td>0</td>\n      <td>0</td>\n      <td>0</td>\n      <td>0</td>\n      <td>1</td>\n      <td>0</td>\n      <td>0.067329</td>\n      <td>0.498036</td>\n      <td>202500.0</td>\n      <td>0.121978</td>\n      <td>0.060749</td>\n      <td>6153272.125</td>\n      <td>-874.00</td>\n      <td>0.0</td>\n      <td>-349.0</td>\n      <td>-697.500000</td>\n      <td>1681.029</td>\n      <td>0.0</td>\n      <td>108131.945625</td>\n      <td>49156.2</td>\n      <td>7997.14125</td>\n      <td>0.0</td>\n      <td>-499.875</td>\n      <td>0.0</td>\n      <td>0.25</td>\n      <td>0.0</td>\n      <td>0.75</td>\n      <td>0.0</td>\n      <td>1.0</td>\n      <td>0.0</td>\n      <td>0.0</td>\n      <td>0.0</td>\n      <td>0.0</td>\n      <td>0.0</td>\n      <td>0.0</td>\n      <td>0.5</td>\n      <td>0.5</td>\n      <td>0.0</td>\n      <td>0.0</td>\n      <td>0.0</td>\n      <td>0.0</td>\n      <td>0.0</td>\n      <td>0.0</td>\n      <td>0.0</td>\n      <td>0.0</td>\n      <td>0.0</td>\n      <td>0.0</td>\n      <td>8.0</td>\n    </tr>\n    <tr>\n      <th>1</th>\n      <td>35698.5</td>\n      <td>1293502.5</td>\n      <td>1129500.0</td>\n      <td>270000.0</td>\n      <td>0.0</td>\n      <td>0.0</td>\n      <td>0.0</td>\n      <td>0.0</td>\n      <td>0.0</td>\n      <td>0.0</td>\n      <td>0.0959</td>\n      <td>0.0968</td>\n      <td>0.0924</td>\n      <td>0.0529</td>\n      <td>0.0529</td>\n      <td>0.0538</td>\n      <td>0</td>\n      <td>2.0</td>\n      <td>0</td>\n      <td>0.0605</td>\n      <td>0.0608</td>\n      <td>0.0497</td>\n      <td>-16765</td>\n      <td>-1188.0</td>\n      <td>-291</td>\n      <td>-828.0</td>\n      <td>-1186.0</td>\n      <td>0.0</td>\n      <td>0.0</td>\n      <td>0.08</td>\n      <td>0.08</td>\n      <td>0.0806</td>\n      <td>0.0345</td>\n      <td>0.0345</td>\n      <td>0.0345</td>\n      <td>0.311267</td>\n      <td>0.622246</td>\n      <td>NaN</td>\n      <td>1</td>\n      <td>0</td>\n      <td>0</td>\n      <td>0</td>\n      <td>0</td>\n      <td>0</td>\n      <td>0</td>\n      <td>0</td>\n      <td>0</td>\n      <td>0</td>\n      <td>0</td>\n      <td>0</td>\n      <td>0</td>\n      <td>0</td>\n      <td>1</td>\n      <td>0</td>\n      <td>0</td>\n      <td>0</td>\n      <td>0</td>\n      <td>0</td>\n      <td>0</td>\n      <td>0</td>\n      <td>1</td>\n      <td>...</td>\n      <td>0</td>\n      <td>0</td>\n      <td>0</td>\n      <td>1</td>\n      <td>0</td>\n      <td>0</td>\n      <td>0</td>\n      <td>0</td>\n      <td>0</td>\n      <td>0</td>\n      <td>0</td>\n      <td>0</td>\n      <td>1</td>\n      <td>0</td>\n      <td>0</td>\n      <td>0</td>\n      <td>0</td>\n      <td>0</td>\n      <td>0</td>\n      <td>0.070862</td>\n      <td>0.208736</td>\n      <td>135000.0</td>\n      <td>0.132217</td>\n      <td>0.027598</td>\n      <td>5885878.500</td>\n      <td>-1400.75</td>\n      <td>0.0</td>\n      <td>-544.5</td>\n      <td>-1097.333333</td>\n      <td>0.000</td>\n      <td>0.0</td>\n      <td>254350.125000</td>\n      <td>0.0</td>\n      <td>202500.00000</td>\n      <td>0.0</td>\n      <td>-816.000</td>\n      <td>NaN</td>\n      <td>0.25</td>\n      <td>0.0</td>\n      <td>0.75</td>\n      <td>0.0</td>\n      <td>1.0</td>\n      <td>0.0</td>\n      <td>0.0</td>\n      <td>0.0</td>\n      <td>0.0</td>\n      <td>0.0</td>\n      <td>0.0</td>\n      <td>0.5</td>\n      <td>0.5</td>\n      <td>0.0</td>\n      <td>0.0</td>\n      <td>0.0</td>\n      <td>0.0</td>\n      <td>0.0</td>\n      <td>0.0</td>\n      <td>0.0</td>\n      <td>0.0</td>\n      <td>0.0</td>\n      <td>0.0</td>\n      <td>4.0</td>\n    </tr>\n    <tr>\n      <th>2</th>\n      <td>6750.0</td>\n      <td>135000.0</td>\n      <td>135000.0</td>\n      <td>67500.0</td>\n      <td>0.0</td>\n      <td>0.0</td>\n      <td>0.0</td>\n      <td>0.0</td>\n      <td>0.0</td>\n      <td>0.0</td>\n      <td>NaN</td>\n      <td>NaN</td>\n      <td>NaN</td>\n      <td>NaN</td>\n      <td>NaN</td>\n      <td>NaN</td>\n      <td>0</td>\n      <td>1.0</td>\n      <td>1</td>\n      <td>NaN</td>\n      <td>NaN</td>\n      <td>NaN</td>\n      <td>-19046</td>\n      <td>-225.0</td>\n      <td>-2531</td>\n      <td>-815.0</td>\n      <td>-4260.0</td>\n      <td>0.0</td>\n      <td>0.0</td>\n      <td>NaN</td>\n      <td>NaN</td>\n      <td>NaN</td>\n      <td>NaN</td>\n      <td>NaN</td>\n      <td>NaN</td>\n      <td>NaN</td>\n      <td>0.555912</td>\n      <td>0.729567</td>\n      <td>1</td>\n      <td>0</td>\n      <td>0</td>\n      <td>0</td>\n      <td>0</td>\n      <td>0</td>\n      <td>0</td>\n      <td>0</td>\n      <td>0</td>\n      <td>0</td>\n      <td>0</td>\n      <td>0</td>\n      <td>0</td>\n      <td>0</td>\n      <td>0</td>\n      <td>0</td>\n      <td>0</td>\n      <td>0</td>\n      <td>0</td>\n      <td>0</td>\n      <td>0</td>\n      <td>0</td>\n      <td>1</td>\n      <td>...</td>\n      <td>0</td>\n      <td>0</td>\n      <td>0</td>\n      <td>0</td>\n      <td>0</td>\n      <td>0</td>\n      <td>0</td>\n      <td>0</td>\n      <td>0</td>\n      <td>0</td>\n      <td>1</td>\n      <td>0</td>\n      <td>1</td>\n      <td>0</td>\n      <td>0</td>\n      <td>0</td>\n      <td>0</td>\n      <td>0</td>\n      <td>0</td>\n      <td>0.011814</td>\n      <td>0.500000</td>\n      <td>67500.0</td>\n      <td>0.100000</td>\n      <td>0.050000</td>\n      <td>6829133.500</td>\n      <td>-867.00</td>\n      <td>0.0</td>\n      <td>-488.5</td>\n      <td>-532.500000</td>\n      <td>0.000</td>\n      <td>0.0</td>\n      <td>94518.900000</td>\n      <td>0.0</td>\n      <td>0.00000</td>\n      <td>0.0</td>\n      <td>-532.000</td>\n      <td>NaN</td>\n      <td>0.00</td>\n      <td>0.0</td>\n      <td>1.00</td>\n      <td>0.0</td>\n      <td>1.0</td>\n      <td>0.0</td>\n      <td>0.0</td>\n      <td>0.0</td>\n      <td>0.0</td>\n      <td>0.0</td>\n      <td>0.0</td>\n      <td>1.0</td>\n      <td>0.0</td>\n      <td>0.0</td>\n      <td>0.0</td>\n      <td>0.0</td>\n      <td>0.0</td>\n      <td>0.0</td>\n      <td>0.0</td>\n      <td>0.0</td>\n      <td>0.0</td>\n      <td>0.0</td>\n      <td>0.0</td>\n      <td>2.0</td>\n    </tr>\n    <tr>\n      <th>3</th>\n      <td>29686.5</td>\n      <td>312682.5</td>\n      <td>297000.0</td>\n      <td>135000.0</td>\n      <td>NaN</td>\n      <td>NaN</td>\n      <td>NaN</td>\n      <td>NaN</td>\n      <td>NaN</td>\n      <td>NaN</td>\n      <td>NaN</td>\n      <td>NaN</td>\n      <td>NaN</td>\n      <td>NaN</td>\n      <td>NaN</td>\n      <td>NaN</td>\n      <td>0</td>\n      <td>2.0</td>\n      <td>0</td>\n      <td>NaN</td>\n      <td>NaN</td>\n      <td>NaN</td>\n      <td>-19005</td>\n      <td>-3039.0</td>\n      <td>-2437</td>\n      <td>-617.0</td>\n      <td>-9833.0</td>\n      <td>0.0</td>\n      <td>0.0</td>\n      <td>NaN</td>\n      <td>NaN</td>\n      <td>NaN</td>\n      <td>NaN</td>\n      <td>NaN</td>\n      <td>NaN</td>\n      <td>NaN</td>\n      <td>0.650442</td>\n      <td>NaN</td>\n      <td>1</td>\n      <td>0</td>\n      <td>0</td>\n      <td>0</td>\n      <td>0</td>\n      <td>0</td>\n      <td>0</td>\n      <td>0</td>\n      <td>0</td>\n      <td>0</td>\n      <td>0</td>\n      <td>0</td>\n      <td>0</td>\n      <td>0</td>\n      <td>1</td>\n      <td>0</td>\n      <td>0</td>\n      <td>0</td>\n      <td>0</td>\n      <td>0</td>\n      <td>0</td>\n      <td>0</td>\n      <td>1</td>\n      <td>...</td>\n      <td>0</td>\n      <td>0</td>\n      <td>0</td>\n      <td>0</td>\n      <td>0</td>\n      <td>0</td>\n      <td>0</td>\n      <td>0</td>\n      <td>0</td>\n      <td>0</td>\n      <td>1</td>\n      <td>0</td>\n      <td>0</td>\n      <td>0</td>\n      <td>0</td>\n      <td>0</td>\n      <td>0</td>\n      <td>1</td>\n      <td>0</td>\n      <td>0.159905</td>\n      <td>0.431748</td>\n      <td>67500.0</td>\n      <td>0.219900</td>\n      <td>0.094941</td>\n      <td>NaN</td>\n      <td>NaN</td>\n      <td>NaN</td>\n      <td>NaN</td>\n      <td>NaN</td>\n      <td>NaN</td>\n      <td>NaN</td>\n      <td>NaN</td>\n      <td>NaN</td>\n      <td>NaN</td>\n      <td>NaN</td>\n      <td>NaN</td>\n      <td>NaN</td>\n      <td>NaN</td>\n      <td>NaN</td>\n      <td>NaN</td>\n      <td>NaN</td>\n      <td>NaN</td>\n      <td>NaN</td>\n      <td>NaN</td>\n      <td>NaN</td>\n      <td>NaN</td>\n      <td>NaN</td>\n      <td>NaN</td>\n      <td>NaN</td>\n      <td>NaN</td>\n      <td>NaN</td>\n      <td>NaN</td>\n      <td>NaN</td>\n      <td>NaN</td>\n      <td>NaN</td>\n      <td>NaN</td>\n      <td>NaN</td>\n      <td>NaN</td>\n      <td>NaN</td>\n      <td>NaN</td>\n      <td>NaN</td>\n    </tr>\n    <tr>\n      <th>4</th>\n      <td>21865.5</td>\n      <td>513000.0</td>\n      <td>513000.0</td>\n      <td>121500.0</td>\n      <td>0.0</td>\n      <td>0.0</td>\n      <td>0.0</td>\n      <td>0.0</td>\n      <td>0.0</td>\n      <td>0.0</td>\n      <td>NaN</td>\n      <td>NaN</td>\n      <td>NaN</td>\n      <td>NaN</td>\n      <td>NaN</td>\n      <td>NaN</td>\n      <td>0</td>\n      <td>1.0</td>\n      <td>1</td>\n      <td>NaN</td>\n      <td>NaN</td>\n      <td>NaN</td>\n      <td>-19932</td>\n      <td>-3038.0</td>\n      <td>-3458</td>\n      <td>-1106.0</td>\n      <td>-4311.0</td>\n      <td>0.0</td>\n      <td>0.0</td>\n      <td>NaN</td>\n      <td>NaN</td>\n      <td>NaN</td>\n      <td>NaN</td>\n      <td>NaN</td>\n      <td>NaN</td>\n      <td>NaN</td>\n      <td>0.322738</td>\n      <td>NaN</td>\n      <td>1</td>\n      <td>0</td>\n      <td>0</td>\n      <td>0</td>\n      <td>0</td>\n      <td>0</td>\n      <td>0</td>\n      <td>0</td>\n      <td>0</td>\n      <td>0</td>\n      <td>0</td>\n      <td>0</td>\n      <td>0</td>\n      <td>0</td>\n      <td>0</td>\n      <td>0</td>\n      <td>0</td>\n      <td>0</td>\n      <td>0</td>\n      <td>1</td>\n      <td>0</td>\n      <td>0</td>\n      <td>1</td>\n      <td>...</td>\n      <td>0</td>\n      <td>0</td>\n      <td>0</td>\n      <td>0</td>\n      <td>0</td>\n      <td>0</td>\n      <td>0</td>\n      <td>0</td>\n      <td>0</td>\n      <td>0</td>\n      <td>1</td>\n      <td>0</td>\n      <td>0</td>\n      <td>0</td>\n      <td>0</td>\n      <td>1</td>\n      <td>0</td>\n      <td>0</td>\n      <td>0</td>\n      <td>0.152418</td>\n      <td>0.236842</td>\n      <td>121500.0</td>\n      <td>0.179963</td>\n      <td>0.042623</td>\n      <td>5987200.000</td>\n      <td>-1149.00</td>\n      <td>0.0</td>\n      <td>-783.0</td>\n      <td>-783.000000</td>\n      <td>0.000</td>\n      <td>0.0</td>\n      <td>146250.000000</td>\n      <td>0.0</td>\n      <td>0.00000</td>\n      <td>0.0</td>\n      <td>-783.000</td>\n      <td>NaN</td>\n      <td>0.00</td>\n      <td>0.0</td>\n      <td>1.00</td>\n      <td>0.0</td>\n      <td>1.0</td>\n      <td>0.0</td>\n      <td>0.0</td>\n      <td>0.0</td>\n      <td>0.0</td>\n      <td>0.0</td>\n      <td>0.0</td>\n      <td>1.0</td>\n      <td>0.0</td>\n      <td>0.0</td>\n      <td>0.0</td>\n      <td>0.0</td>\n      <td>0.0</td>\n      <td>0.0</td>\n      <td>0.0</td>\n      <td>0.0</td>\n      <td>0.0</td>\n      <td>0.0</td>\n      <td>0.0</td>\n      <td>1.0</td>\n    </tr>\n  </tbody>\n</table>\n<p>5 rows × 295 columns</p>\n</div>"
     },
     "metadata": {},
     "output_type": "execute_result",
     "execution_count": 22
    }
   ],
   "source": [
    "df.head()"
   ],
   "metadata": {
    "collapsed": false,
    "pycharm": {
     "name": "#%%\n",
     "is_executing": false
    }
   }
  },
  {
   "cell_type": "markdown",
   "source": [
    "### <font color='#3A9CA1'>•••••••••••••••••••••••••••••••••••••••••••••••••••••••••••••••••••••••••••••••••••••••••••••••••••••••••••••</font>"
   ],
   "metadata": {
    "collapsed": false
   }
  },
  {
   "cell_type": "markdown",
   "source": [
    "### <font color='#BF4E51'>previous_application tablosu</font>\n",
    "#### application tablosunda kredi başvurusu olan ve daha önce Home Credit Group da kredi başvurusu bulunanlar\n",
    "#### bureau tablosunda farklı yerlerde olan başvurular vardı"
   ],
   "metadata": {
    "collapsed": false,
    "pycharm": {
     "name": "#%% md\n"
    }
   }
  },
  {
   "cell_type": "code",
   "execution_count": 23,
   "outputs": [
    {
     "data": {
      "text/plain": "   SK_ID_PREV  SK_ID_CURR NAME_CONTRACT_TYPE  AMT_ANNUITY  AMT_APPLICATION  \\\n0     2030495      271877     Consumer loans     1730.430          17145.0   \n1     2802425      108129         Cash loans    25188.615         607500.0   \n2     2523466      122040         Cash loans    15060.735         112500.0   \n3     2819243      176158         Cash loans    47041.335         450000.0   \n4     1784265      202054         Cash loans    31924.395         337500.0   \n\n   AMT_CREDIT  AMT_DOWN_PAYMENT  AMT_GOODS_PRICE WEEKDAY_APPR_PROCESS_START  \\\n0     17145.0               0.0          17145.0                   SATURDAY   \n1    679671.0               NaN         607500.0                   THURSDAY   \n2    136444.5               NaN         112500.0                    TUESDAY   \n3    470790.0               NaN         450000.0                     MONDAY   \n4    404055.0               NaN         337500.0                   THURSDAY   \n\n   HOUR_APPR_PROCESS_START FLAG_LAST_APPL_PER_CONTRACT  \\\n0                       15                           Y   \n1                       11                           Y   \n2                       11                           Y   \n3                        7                           Y   \n4                        9                           Y   \n\n   NFLAG_LAST_APPL_IN_DAY  RATE_DOWN_PAYMENT  RATE_INTEREST_PRIMARY  \\\n0                       1                0.0               0.182832   \n1                       1                NaN                    NaN   \n2                       1                NaN                    NaN   \n3                       1                NaN                    NaN   \n4                       1                NaN                    NaN   \n\n   RATE_INTEREST_PRIVILEGED NAME_CASH_LOAN_PURPOSE NAME_CONTRACT_STATUS  \\\n0                  0.867336                    XAP             Approved   \n1                       NaN                    XNA             Approved   \n2                       NaN                    XNA             Approved   \n3                       NaN                    XNA             Approved   \n4                       NaN                Repairs              Refused   \n\n   DAYS_DECISION      NAME_PAYMENT_TYPE CODE_REJECT_REASON  NAME_TYPE_SUITE  \\\n0            -73  Cash through the bank                XAP              NaN   \n1           -164                    XNA                XAP    Unaccompanied   \n2           -301  Cash through the bank                XAP  Spouse, partner   \n3           -512  Cash through the bank                XAP              NaN   \n4           -781  Cash through the bank                 HC              NaN   \n\n  NAME_CLIENT_TYPE NAME_GOODS_CATEGORY NAME_PORTFOLIO NAME_PRODUCT_TYPE  \\\n0         Repeater              Mobile            POS               XNA   \n1         Repeater                 XNA           Cash            x-sell   \n2         Repeater                 XNA           Cash            x-sell   \n3         Repeater                 XNA           Cash            x-sell   \n4         Repeater                 XNA           Cash           walk-in   \n\n              CHANNEL_TYPE  SELLERPLACE_AREA NAME_SELLER_INDUSTRY  \\\n0             Country-wide                35         Connectivity   \n1           Contact center                -1                  XNA   \n2  Credit and cash offices                -1                  XNA   \n3  Credit and cash offices                -1                  XNA   \n4  Credit and cash offices                -1                  XNA   \n\n   CNT_PAYMENT NAME_YIELD_GROUP       PRODUCT_COMBINATION  DAYS_FIRST_DRAWING  \\\n0         12.0           middle  POS mobile with interest            365243.0   \n1         36.0       low_action          Cash X-Sell: low            365243.0   \n2         12.0             high         Cash X-Sell: high            365243.0   \n3         12.0           middle       Cash X-Sell: middle            365243.0   \n4         24.0             high         Cash Street: high                 NaN   \n\n   DAYS_FIRST_DUE  DAYS_LAST_DUE_1ST_VERSION  DAYS_LAST_DUE  DAYS_TERMINATION  \\\n0           -42.0                      300.0          -42.0             -37.0   \n1          -134.0                      916.0       365243.0          365243.0   \n2          -271.0                       59.0       365243.0          365243.0   \n3          -482.0                     -152.0         -182.0            -177.0   \n4             NaN                        NaN            NaN               NaN   \n\n   NFLAG_INSURED_ON_APPROVAL  \n0                        0.0  \n1                        1.0  \n2                        1.0  \n3                        1.0  \n4                        NaN  ",
      "text/html": "<div>\n<style scoped>\n    .dataframe tbody tr th:only-of-type {\n        vertical-align: middle;\n    }\n\n    .dataframe tbody tr th {\n        vertical-align: top;\n    }\n\n    .dataframe thead th {\n        text-align: right;\n    }\n</style>\n<table border=\"1\" class=\"dataframe\">\n  <thead>\n    <tr style=\"text-align: right;\">\n      <th></th>\n      <th>SK_ID_PREV</th>\n      <th>SK_ID_CURR</th>\n      <th>NAME_CONTRACT_TYPE</th>\n      <th>AMT_ANNUITY</th>\n      <th>AMT_APPLICATION</th>\n      <th>AMT_CREDIT</th>\n      <th>AMT_DOWN_PAYMENT</th>\n      <th>AMT_GOODS_PRICE</th>\n      <th>WEEKDAY_APPR_PROCESS_START</th>\n      <th>HOUR_APPR_PROCESS_START</th>\n      <th>FLAG_LAST_APPL_PER_CONTRACT</th>\n      <th>NFLAG_LAST_APPL_IN_DAY</th>\n      <th>RATE_DOWN_PAYMENT</th>\n      <th>RATE_INTEREST_PRIMARY</th>\n      <th>RATE_INTEREST_PRIVILEGED</th>\n      <th>NAME_CASH_LOAN_PURPOSE</th>\n      <th>NAME_CONTRACT_STATUS</th>\n      <th>DAYS_DECISION</th>\n      <th>NAME_PAYMENT_TYPE</th>\n      <th>CODE_REJECT_REASON</th>\n      <th>NAME_TYPE_SUITE</th>\n      <th>NAME_CLIENT_TYPE</th>\n      <th>NAME_GOODS_CATEGORY</th>\n      <th>NAME_PORTFOLIO</th>\n      <th>NAME_PRODUCT_TYPE</th>\n      <th>CHANNEL_TYPE</th>\n      <th>SELLERPLACE_AREA</th>\n      <th>NAME_SELLER_INDUSTRY</th>\n      <th>CNT_PAYMENT</th>\n      <th>NAME_YIELD_GROUP</th>\n      <th>PRODUCT_COMBINATION</th>\n      <th>DAYS_FIRST_DRAWING</th>\n      <th>DAYS_FIRST_DUE</th>\n      <th>DAYS_LAST_DUE_1ST_VERSION</th>\n      <th>DAYS_LAST_DUE</th>\n      <th>DAYS_TERMINATION</th>\n      <th>NFLAG_INSURED_ON_APPROVAL</th>\n    </tr>\n  </thead>\n  <tbody>\n    <tr>\n      <th>0</th>\n      <td>2030495</td>\n      <td>271877</td>\n      <td>Consumer loans</td>\n      <td>1730.430</td>\n      <td>17145.0</td>\n      <td>17145.0</td>\n      <td>0.0</td>\n      <td>17145.0</td>\n      <td>SATURDAY</td>\n      <td>15</td>\n      <td>Y</td>\n      <td>1</td>\n      <td>0.0</td>\n      <td>0.182832</td>\n      <td>0.867336</td>\n      <td>XAP</td>\n      <td>Approved</td>\n      <td>-73</td>\n      <td>Cash through the bank</td>\n      <td>XAP</td>\n      <td>NaN</td>\n      <td>Repeater</td>\n      <td>Mobile</td>\n      <td>POS</td>\n      <td>XNA</td>\n      <td>Country-wide</td>\n      <td>35</td>\n      <td>Connectivity</td>\n      <td>12.0</td>\n      <td>middle</td>\n      <td>POS mobile with interest</td>\n      <td>365243.0</td>\n      <td>-42.0</td>\n      <td>300.0</td>\n      <td>-42.0</td>\n      <td>-37.0</td>\n      <td>0.0</td>\n    </tr>\n    <tr>\n      <th>1</th>\n      <td>2802425</td>\n      <td>108129</td>\n      <td>Cash loans</td>\n      <td>25188.615</td>\n      <td>607500.0</td>\n      <td>679671.0</td>\n      <td>NaN</td>\n      <td>607500.0</td>\n      <td>THURSDAY</td>\n      <td>11</td>\n      <td>Y</td>\n      <td>1</td>\n      <td>NaN</td>\n      <td>NaN</td>\n      <td>NaN</td>\n      <td>XNA</td>\n      <td>Approved</td>\n      <td>-164</td>\n      <td>XNA</td>\n      <td>XAP</td>\n      <td>Unaccompanied</td>\n      <td>Repeater</td>\n      <td>XNA</td>\n      <td>Cash</td>\n      <td>x-sell</td>\n      <td>Contact center</td>\n      <td>-1</td>\n      <td>XNA</td>\n      <td>36.0</td>\n      <td>low_action</td>\n      <td>Cash X-Sell: low</td>\n      <td>365243.0</td>\n      <td>-134.0</td>\n      <td>916.0</td>\n      <td>365243.0</td>\n      <td>365243.0</td>\n      <td>1.0</td>\n    </tr>\n    <tr>\n      <th>2</th>\n      <td>2523466</td>\n      <td>122040</td>\n      <td>Cash loans</td>\n      <td>15060.735</td>\n      <td>112500.0</td>\n      <td>136444.5</td>\n      <td>NaN</td>\n      <td>112500.0</td>\n      <td>TUESDAY</td>\n      <td>11</td>\n      <td>Y</td>\n      <td>1</td>\n      <td>NaN</td>\n      <td>NaN</td>\n      <td>NaN</td>\n      <td>XNA</td>\n      <td>Approved</td>\n      <td>-301</td>\n      <td>Cash through the bank</td>\n      <td>XAP</td>\n      <td>Spouse, partner</td>\n      <td>Repeater</td>\n      <td>XNA</td>\n      <td>Cash</td>\n      <td>x-sell</td>\n      <td>Credit and cash offices</td>\n      <td>-1</td>\n      <td>XNA</td>\n      <td>12.0</td>\n      <td>high</td>\n      <td>Cash X-Sell: high</td>\n      <td>365243.0</td>\n      <td>-271.0</td>\n      <td>59.0</td>\n      <td>365243.0</td>\n      <td>365243.0</td>\n      <td>1.0</td>\n    </tr>\n    <tr>\n      <th>3</th>\n      <td>2819243</td>\n      <td>176158</td>\n      <td>Cash loans</td>\n      <td>47041.335</td>\n      <td>450000.0</td>\n      <td>470790.0</td>\n      <td>NaN</td>\n      <td>450000.0</td>\n      <td>MONDAY</td>\n      <td>7</td>\n      <td>Y</td>\n      <td>1</td>\n      <td>NaN</td>\n      <td>NaN</td>\n      <td>NaN</td>\n      <td>XNA</td>\n      <td>Approved</td>\n      <td>-512</td>\n      <td>Cash through the bank</td>\n      <td>XAP</td>\n      <td>NaN</td>\n      <td>Repeater</td>\n      <td>XNA</td>\n      <td>Cash</td>\n      <td>x-sell</td>\n      <td>Credit and cash offices</td>\n      <td>-1</td>\n      <td>XNA</td>\n      <td>12.0</td>\n      <td>middle</td>\n      <td>Cash X-Sell: middle</td>\n      <td>365243.0</td>\n      <td>-482.0</td>\n      <td>-152.0</td>\n      <td>-182.0</td>\n      <td>-177.0</td>\n      <td>1.0</td>\n    </tr>\n    <tr>\n      <th>4</th>\n      <td>1784265</td>\n      <td>202054</td>\n      <td>Cash loans</td>\n      <td>31924.395</td>\n      <td>337500.0</td>\n      <td>404055.0</td>\n      <td>NaN</td>\n      <td>337500.0</td>\n      <td>THURSDAY</td>\n      <td>9</td>\n      <td>Y</td>\n      <td>1</td>\n      <td>NaN</td>\n      <td>NaN</td>\n      <td>NaN</td>\n      <td>Repairs</td>\n      <td>Refused</td>\n      <td>-781</td>\n      <td>Cash through the bank</td>\n      <td>HC</td>\n      <td>NaN</td>\n      <td>Repeater</td>\n      <td>XNA</td>\n      <td>Cash</td>\n      <td>walk-in</td>\n      <td>Credit and cash offices</td>\n      <td>-1</td>\n      <td>XNA</td>\n      <td>24.0</td>\n      <td>high</td>\n      <td>Cash Street: high</td>\n      <td>NaN</td>\n      <td>NaN</td>\n      <td>NaN</td>\n      <td>NaN</td>\n      <td>NaN</td>\n      <td>NaN</td>\n    </tr>\n  </tbody>\n</table>\n</div>"
     },
     "metadata": {},
     "output_type": "execute_result",
     "execution_count": 23
    }
   ],
   "source": [
    "prev_application = pd.read_csv(Path(\"data/previous_application.csv\"), nrows = None)\n",
    "prev_application.head()"
   ],
   "metadata": {
    "collapsed": false,
    "pycharm": {
     "name": "#%%\n",
     "is_executing": false
    }
   }
  },
  {
   "cell_type": "code",
   "execution_count": 24,
   "outputs": [],
   "source": [
    "# aykırı değerlere Nan değeri atadık\n",
    "prev_application['DAYS_FIRST_DRAWING'].replace(365243, np.nan, inplace= True)\n",
    "prev_application['DAYS_FIRST_DUE'].replace(365243, np.nan, inplace= True)\n",
    "prev_application['DAYS_LAST_DUE_1ST_VERSION'].replace(365243, np.nan, inplace= True)\n",
    "prev_application['DAYS_LAST_DUE'].replace(365243, np.nan, inplace= True)\n",
    "prev_application['DAYS_TERMINATION'].replace(365243, np.nan, inplace= True)\n"
   ],
   "metadata": {
    "collapsed": false,
    "pycharm": {
     "name": "#%%\n",
     "is_executing": false
    }
   }
  },
  {
   "cell_type": "code",
   "execution_count": 25,
   "outputs": [],
   "source": [
    "prev_application_kategorik = get_kategorik_kolon(prev_application)\n",
    "prev_application = get_dummies(prev_application, prev_application_kategorik)\n"
   ],
   "metadata": {
    "collapsed": false,
    "pycharm": {
     "name": "#%%\n",
     "is_executing": false
    }
   }
  },
  {
   "cell_type": "code",
   "execution_count": 26,
   "outputs": [
    {
     "data": {
      "text/plain": "19"
     },
     "metadata": {},
     "output_type": "execute_result",
     "execution_count": 26
    }
   ],
   "source": [
    "## herbir başvuru için geçmiş başvuruların sayısı\n",
    "prev_apps_count = prev_application[['SK_ID_CURR', 'SK_ID_PREV']].groupby('SK_ID_CURR').count()\n",
    "prev_application['SK_ID_PREV'] = prev_application['SK_ID_CURR'].map(prev_apps_count['SK_ID_PREV'])\n",
    "\n",
    "## geçmiş başvurulardaki kategorik olmayan özelliklerin ortalaması\n",
    "prev_apps_ort = prev_application.groupby('SK_ID_CURR').mean()\n",
    "prev_apps_ort.columns = ['p_' + col for col in prev_apps_ort.columns]\n",
    "df = df.merge(right=prev_apps_ort.reset_index(), how='left', on='SK_ID_CURR')\n",
    "\n",
    "del prev_application, prev_apps_ort\n",
    "gc.collect()\n",
    "\n"
   ],
   "metadata": {
    "collapsed": false,
    "pycharm": {
     "name": "#%%\n",
     "is_executing": false
    }
   }
  },
  {
   "cell_type": "markdown",
   "source": [
    "### <font color='#3A9CA1'>•••••••••••••••••••••••••••••••••••••••••••••••••••••••••••••••••••••••••••••••••••••••••••••••••••••••••••••</font>"
   ],
   "metadata": {
    "collapsed": false,
    "pycharm": {
     "name": "#%% md\n"
    }
   }
  },
  {
   "cell_type": "markdown",
   "source": [
    "### <font color='#BF4E51'>POS_CASH_balance tablosu</font>\n",
    "#### bureau_balance gibidir, bu tabloda prev_application tablosundaki önceki kredilerin ödemesi hakkında veri içerir."
   ],
   "metadata": {
    "collapsed": false,
    "pycharm": {
     "name": "#%% md\n"
    }
   }
  },
  {
   "cell_type": "code",
   "execution_count": 27,
   "outputs": [
    {
     "data": {
      "text/plain": "   SK_ID_PREV  SK_ID_CURR  MONTHS_BALANCE  CNT_INSTALMENT  \\\n0     1803195      182943             -31            48.0   \n1     1715348      367990             -33            36.0   \n2     1784872      397406             -32            12.0   \n3     1903291      269225             -35            48.0   \n4     2341044      334279             -35            36.0   \n\n   CNT_INSTALMENT_FUTURE NAME_CONTRACT_STATUS  SK_DPD  SK_DPD_DEF  \n0                   45.0               Active       0           0  \n1                   35.0               Active       0           0  \n2                    9.0               Active       0           0  \n3                   42.0               Active       0           0  \n4                   35.0               Active       0           0  ",
      "text/html": "<div>\n<style scoped>\n    .dataframe tbody tr th:only-of-type {\n        vertical-align: middle;\n    }\n\n    .dataframe tbody tr th {\n        vertical-align: top;\n    }\n\n    .dataframe thead th {\n        text-align: right;\n    }\n</style>\n<table border=\"1\" class=\"dataframe\">\n  <thead>\n    <tr style=\"text-align: right;\">\n      <th></th>\n      <th>SK_ID_PREV</th>\n      <th>SK_ID_CURR</th>\n      <th>MONTHS_BALANCE</th>\n      <th>CNT_INSTALMENT</th>\n      <th>CNT_INSTALMENT_FUTURE</th>\n      <th>NAME_CONTRACT_STATUS</th>\n      <th>SK_DPD</th>\n      <th>SK_DPD_DEF</th>\n    </tr>\n  </thead>\n  <tbody>\n    <tr>\n      <th>0</th>\n      <td>1803195</td>\n      <td>182943</td>\n      <td>-31</td>\n      <td>48.0</td>\n      <td>45.0</td>\n      <td>Active</td>\n      <td>0</td>\n      <td>0</td>\n    </tr>\n    <tr>\n      <th>1</th>\n      <td>1715348</td>\n      <td>367990</td>\n      <td>-33</td>\n      <td>36.0</td>\n      <td>35.0</td>\n      <td>Active</td>\n      <td>0</td>\n      <td>0</td>\n    </tr>\n    <tr>\n      <th>2</th>\n      <td>1784872</td>\n      <td>397406</td>\n      <td>-32</td>\n      <td>12.0</td>\n      <td>9.0</td>\n      <td>Active</td>\n      <td>0</td>\n      <td>0</td>\n    </tr>\n    <tr>\n      <th>3</th>\n      <td>1903291</td>\n      <td>269225</td>\n      <td>-35</td>\n      <td>48.0</td>\n      <td>42.0</td>\n      <td>Active</td>\n      <td>0</td>\n      <td>0</td>\n    </tr>\n    <tr>\n      <th>4</th>\n      <td>2341044</td>\n      <td>334279</td>\n      <td>-35</td>\n      <td>36.0</td>\n      <td>35.0</td>\n      <td>Active</td>\n      <td>0</td>\n      <td>0</td>\n    </tr>\n  </tbody>\n</table>\n</div>"
     },
     "metadata": {},
     "output_type": "execute_result",
     "execution_count": 27
    }
   ],
   "source": [
    "pos_cash_balance = pd.read_csv(Path(\"data/POS_CASH_balance.csv\"), nrows = None)\n",
    "pos_cash_balance.head()"
   ],
   "metadata": {
    "collapsed": false,
    "pycharm": {
     "name": "#%%\n",
     "is_executing": false
    }
   }
  },
  {
   "cell_type": "code",
   "execution_count": 28,
   "outputs": [],
   "source": [
    "pos_kategorik = get_kategorik_kolon(pos_cash_balance)\n",
    "pos = get_dummies(pos_cash_balance, pos_kategorik)\n"
   ],
   "metadata": {
    "collapsed": false,
    "pycharm": {
     "name": "#%%\n",
     "is_executing": false
    }
   }
  },
  {
   "cell_type": "code",
   "execution_count": 29,
   "outputs": [
    {
     "data": {
      "text/plain": "0"
     },
     "metadata": {},
     "output_type": "execute_result",
     "execution_count": 29
    }
   ],
   "source": [
    "### başvurularla ilgili pos ve nakit yapılan kullanımların sayısı\n",
    "pos_count = pos[['SK_ID_CURR', 'SK_ID_PREV']].groupby('SK_ID_CURR').count()\n",
    "pos['SK_ID_PREV'] = pos['SK_ID_CURR'].map(pos_count['SK_ID_PREV'])\n",
    "\n",
    "## POS_CASH deki özelliklerin ortalaması\n",
    "pos_ort = pos.groupby('SK_ID_CURR').mean()\n",
    "df = df.merge(right=pos_ort.reset_index(), how='left', on='SK_ID_CURR')\n",
    "\n",
    "del pos, pos_ort\n",
    "gc.collect()"
   ],
   "metadata": {
    "collapsed": false,
    "pycharm": {
     "name": "#%%\n",
     "is_executing": false
    }
   }
  },
  {
   "cell_type": "markdown",
   "source": [
    "### <font color='#3A9CA1'>•••••••••••••••••••••••••••••••••••••••••••••••••••••••••••••••••••••••••••••••••••••••••••••••••••••••••••••</font>"
   ],
   "metadata": {
    "collapsed": false,
    "pycharm": {
     "name": "#%% md\n"
    }
   }
  },
  {
   "cell_type": "markdown",
   "source": [
    "### <font color='#BF4E51'>installments_payments tablosu</font>\n",
    "#### Home Credit de önceki krediler için ödeme geçmişi verilerini tutar\n",
    "#### yapılan her ödeme için bir satır ve kaçırılan her ödeme için bir satır vardır."
   ],
   "metadata": {
    "collapsed": false
   }
  },
  {
   "cell_type": "code",
   "execution_count": 30,
   "outputs": [
    {
     "data": {
      "text/plain": "   SK_ID_PREV  SK_ID_CURR  NUM_INSTALMENT_VERSION  NUM_INSTALMENT_NUMBER  \\\n0     1054186      161674                     1.0                      6   \n1     1330831      151639                     0.0                     34   \n2     2085231      193053                     2.0                      1   \n3     2452527      199697                     1.0                      3   \n4     2714724      167756                     1.0                      2   \n\n   DAYS_INSTALMENT  DAYS_ENTRY_PAYMENT  AMT_INSTALMENT  AMT_PAYMENT  \n0          -1180.0             -1187.0        6948.360     6948.360  \n1          -2156.0             -2156.0        1716.525     1716.525  \n2            -63.0               -63.0       25425.000    25425.000  \n3          -2418.0             -2426.0       24350.130    24350.130  \n4          -1383.0             -1366.0        2165.040     2160.585  ",
      "text/html": "<div>\n<style scoped>\n    .dataframe tbody tr th:only-of-type {\n        vertical-align: middle;\n    }\n\n    .dataframe tbody tr th {\n        vertical-align: top;\n    }\n\n    .dataframe thead th {\n        text-align: right;\n    }\n</style>\n<table border=\"1\" class=\"dataframe\">\n  <thead>\n    <tr style=\"text-align: right;\">\n      <th></th>\n      <th>SK_ID_PREV</th>\n      <th>SK_ID_CURR</th>\n      <th>NUM_INSTALMENT_VERSION</th>\n      <th>NUM_INSTALMENT_NUMBER</th>\n      <th>DAYS_INSTALMENT</th>\n      <th>DAYS_ENTRY_PAYMENT</th>\n      <th>AMT_INSTALMENT</th>\n      <th>AMT_PAYMENT</th>\n    </tr>\n  </thead>\n  <tbody>\n    <tr>\n      <th>0</th>\n      <td>1054186</td>\n      <td>161674</td>\n      <td>1.0</td>\n      <td>6</td>\n      <td>-1180.0</td>\n      <td>-1187.0</td>\n      <td>6948.360</td>\n      <td>6948.360</td>\n    </tr>\n    <tr>\n      <th>1</th>\n      <td>1330831</td>\n      <td>151639</td>\n      <td>0.0</td>\n      <td>34</td>\n      <td>-2156.0</td>\n      <td>-2156.0</td>\n      <td>1716.525</td>\n      <td>1716.525</td>\n    </tr>\n    <tr>\n      <th>2</th>\n      <td>2085231</td>\n      <td>193053</td>\n      <td>2.0</td>\n      <td>1</td>\n      <td>-63.0</td>\n      <td>-63.0</td>\n      <td>25425.000</td>\n      <td>25425.000</td>\n    </tr>\n    <tr>\n      <th>3</th>\n      <td>2452527</td>\n      <td>199697</td>\n      <td>1.0</td>\n      <td>3</td>\n      <td>-2418.0</td>\n      <td>-2426.0</td>\n      <td>24350.130</td>\n      <td>24350.130</td>\n    </tr>\n    <tr>\n      <th>4</th>\n      <td>2714724</td>\n      <td>167756</td>\n      <td>1.0</td>\n      <td>2</td>\n      <td>-1383.0</td>\n      <td>-1366.0</td>\n      <td>2165.040</td>\n      <td>2160.585</td>\n    </tr>\n  </tbody>\n</table>\n</div>"
     },
     "metadata": {},
     "output_type": "execute_result",
     "execution_count": 30
    }
   ],
   "source": [
    "installments_payments = pd.read_csv(Path(\"data/installments_payments.csv\"), nrows = None)\n",
    "installments_payments.head()"
   ],
   "metadata": {
    "collapsed": false,
    "pycharm": {
     "name": "#%%\n",
     "is_executing": false
    }
   }
  },
  {
   "cell_type": "code",
   "execution_count": 31,
   "outputs": [],
   "source": [
    "installments_payments_kategorik= get_kategorik_kolon(installments_payments)\n",
    "installments_payments = get_dummies(installments_payments, installments_payments_kategorik)"
   ],
   "metadata": {
    "collapsed": false,
    "pycharm": {
     "name": "#%%\n",
     "is_executing": false
    }
   }
  },
  {
   "cell_type": "code",
   "execution_count": 32,
   "outputs": [],
   "source": [
    "# Her kredi taksidi ödemesinde ödediği miktarla aslı arasındaki fark ve bunun yüzdesi\n",
    "installments_payments['PAYMENT_PERC'] = installments_payments['AMT_PAYMENT'] / installments_payments['AMT_INSTALMENT']\n",
    "installments_payments['PAYMENT_DIFF'] = installments_payments['AMT_INSTALMENT'] - installments_payments['AMT_PAYMENT']\n",
    "\n",
    "# vadesi geçmiş günler ve vadesinden önceki günler -- sadece pozitif değerler alınır\n",
    "installments_payments['DPD'] = installments_payments['DAYS_ENTRY_PAYMENT'] - installments_payments['DAYS_INSTALMENT']\n",
    "installments_payments['DBD'] = installments_payments['DAYS_INSTALMENT'] - installments_payments['DAYS_ENTRY_PAYMENT']\n",
    "installments_payments['DPD'] = installments_payments['DPD'].apply(lambda x: x if x > 0 else 0)\n",
    "installments_payments['DBD'] = installments_payments['DBD'].apply(lambda x: x if x > 0 else 0)"
   ],
   "metadata": {
    "collapsed": false,
    "pycharm": {
     "name": "#%%\n",
     "is_executing": false
    }
   }
  },
  {
   "cell_type": "code",
   "execution_count": 33,
   "outputs": [
    {
     "data": {
      "text/plain": "19"
     },
     "metadata": {},
     "output_type": "execute_result",
     "execution_count": 33
    }
   ],
   "source": [
    "## geçmiş taksitlerin sayısı\n",
    "cnt_inst = installments_payments[['SK_ID_CURR', 'SK_ID_PREV']].groupby('SK_ID_CURR').count()\n",
    "installments_payments['SK_ID_PREV'] = installments_payments['SK_ID_CURR'].map(cnt_inst['SK_ID_PREV'])\n",
    "\n",
    "## installments_payments tablosundaki diğer özelliklerin ortalaması\n",
    "installments_payments_ort = installments_payments.groupby('SK_ID_CURR').mean()\n",
    "installments_payments_ort.columns = ['i_' + f_ for f_ in installments_payments_ort.columns]\n",
    "df = df.merge(right=installments_payments_ort.reset_index(), how='left', on='SK_ID_CURR')\n",
    "\n",
    "del installments_payments, installments_payments_ort\n",
    "gc.collect()"
   ],
   "metadata": {
    "collapsed": false,
    "pycharm": {
     "name": "#%%\n",
     "is_executing": false
    }
   }
  },
  {
   "cell_type": "markdown",
   "source": [
    "### <font color='#3A9CA1'>•••••••••••••••••••••••••••••••••••••••••••••••••••••••••••••••••••••••••••••••••••••••••••••••••••••••••••••</font>"
   ],
   "metadata": {
    "collapsed": false,
    "pycharm": {
     "name": "#%% md\n"
    }
   }
  },
  {
   "cell_type": "markdown",
   "source": [
    "### <font color='#BF4E51'>credit_card_balance tablosu</font>\n",
    "#### müşterilerin Home Credit ile aldıkları önceki kredi kartları hakkındaki aylık veriler.\n",
    "#### her satır bir aylık kredi kartı bakiyesidir ve tek bir kredi kartında çok sayıda satır olabilir."
   ],
   "metadata": {
    "collapsed": false
   }
  },
  {
   "cell_type": "code",
   "execution_count": 34,
   "outputs": [
    {
     "data": {
      "text/plain": "   SK_ID_PREV  SK_ID_CURR  MONTHS_BALANCE  AMT_BALANCE  \\\n0     2562384      378907              -6       56.970   \n1     2582071      363914              -1    63975.555   \n2     1740877      371185              -7    31815.225   \n3     1389973      337855              -4   236572.110   \n4     1891521      126868              -1   453919.455   \n\n   AMT_CREDIT_LIMIT_ACTUAL  AMT_DRAWINGS_ATM_CURRENT  AMT_DRAWINGS_CURRENT  \\\n0                   135000                       0.0                 877.5   \n1                    45000                    2250.0                2250.0   \n2                   450000                       0.0                   0.0   \n3                   225000                    2250.0                2250.0   \n4                   450000                       0.0               11547.0   \n\n   AMT_DRAWINGS_OTHER_CURRENT  AMT_DRAWINGS_POS_CURRENT  \\\n0                         0.0                     877.5   \n1                         0.0                       0.0   \n2                         0.0                       0.0   \n3                         0.0                       0.0   \n4                         0.0                   11547.0   \n\n   AMT_INST_MIN_REGULARITY  AMT_PAYMENT_CURRENT  AMT_PAYMENT_TOTAL_CURRENT  \\\n0                 1700.325               1800.0                     1800.0   \n1                 2250.000               2250.0                     2250.0   \n2                 2250.000               2250.0                     2250.0   \n3                11795.760              11925.0                    11925.0   \n4                22924.890              27000.0                    27000.0   \n\n   AMT_RECEIVABLE_PRINCIPAL  AMT_RECIVABLE  AMT_TOTAL_RECEIVABLE  \\\n0                     0.000          0.000                 0.000   \n1                 60175.080      64875.555             64875.555   \n2                 26926.425      31460.085             31460.085   \n3                224949.285     233048.970            233048.970   \n4                443044.395     453919.455            453919.455   \n\n   CNT_DRAWINGS_ATM_CURRENT  CNT_DRAWINGS_CURRENT  CNT_DRAWINGS_OTHER_CURRENT  \\\n0                       0.0                     1                         0.0   \n1                       1.0                     1                         0.0   \n2                       0.0                     0                         0.0   \n3                       1.0                     1                         0.0   \n4                       0.0                     1                         0.0   \n\n   CNT_DRAWINGS_POS_CURRENT  CNT_INSTALMENT_MATURE_CUM NAME_CONTRACT_STATUS  \\\n0                       1.0                       35.0               Active   \n1                       0.0                       69.0               Active   \n2                       0.0                       30.0               Active   \n3                       0.0                       10.0               Active   \n4                       1.0                      101.0               Active   \n\n   SK_DPD  SK_DPD_DEF  \n0       0           0  \n1       0           0  \n2       0           0  \n3       0           0  \n4       0           0  ",
      "text/html": "<div>\n<style scoped>\n    .dataframe tbody tr th:only-of-type {\n        vertical-align: middle;\n    }\n\n    .dataframe tbody tr th {\n        vertical-align: top;\n    }\n\n    .dataframe thead th {\n        text-align: right;\n    }\n</style>\n<table border=\"1\" class=\"dataframe\">\n  <thead>\n    <tr style=\"text-align: right;\">\n      <th></th>\n      <th>SK_ID_PREV</th>\n      <th>SK_ID_CURR</th>\n      <th>MONTHS_BALANCE</th>\n      <th>AMT_BALANCE</th>\n      <th>AMT_CREDIT_LIMIT_ACTUAL</th>\n      <th>AMT_DRAWINGS_ATM_CURRENT</th>\n      <th>AMT_DRAWINGS_CURRENT</th>\n      <th>AMT_DRAWINGS_OTHER_CURRENT</th>\n      <th>AMT_DRAWINGS_POS_CURRENT</th>\n      <th>AMT_INST_MIN_REGULARITY</th>\n      <th>AMT_PAYMENT_CURRENT</th>\n      <th>AMT_PAYMENT_TOTAL_CURRENT</th>\n      <th>AMT_RECEIVABLE_PRINCIPAL</th>\n      <th>AMT_RECIVABLE</th>\n      <th>AMT_TOTAL_RECEIVABLE</th>\n      <th>CNT_DRAWINGS_ATM_CURRENT</th>\n      <th>CNT_DRAWINGS_CURRENT</th>\n      <th>CNT_DRAWINGS_OTHER_CURRENT</th>\n      <th>CNT_DRAWINGS_POS_CURRENT</th>\n      <th>CNT_INSTALMENT_MATURE_CUM</th>\n      <th>NAME_CONTRACT_STATUS</th>\n      <th>SK_DPD</th>\n      <th>SK_DPD_DEF</th>\n    </tr>\n  </thead>\n  <tbody>\n    <tr>\n      <th>0</th>\n      <td>2562384</td>\n      <td>378907</td>\n      <td>-6</td>\n      <td>56.970</td>\n      <td>135000</td>\n      <td>0.0</td>\n      <td>877.5</td>\n      <td>0.0</td>\n      <td>877.5</td>\n      <td>1700.325</td>\n      <td>1800.0</td>\n      <td>1800.0</td>\n      <td>0.000</td>\n      <td>0.000</td>\n      <td>0.000</td>\n      <td>0.0</td>\n      <td>1</td>\n      <td>0.0</td>\n      <td>1.0</td>\n      <td>35.0</td>\n      <td>Active</td>\n      <td>0</td>\n      <td>0</td>\n    </tr>\n    <tr>\n      <th>1</th>\n      <td>2582071</td>\n      <td>363914</td>\n      <td>-1</td>\n      <td>63975.555</td>\n      <td>45000</td>\n      <td>2250.0</td>\n      <td>2250.0</td>\n      <td>0.0</td>\n      <td>0.0</td>\n      <td>2250.000</td>\n      <td>2250.0</td>\n      <td>2250.0</td>\n      <td>60175.080</td>\n      <td>64875.555</td>\n      <td>64875.555</td>\n      <td>1.0</td>\n      <td>1</td>\n      <td>0.0</td>\n      <td>0.0</td>\n      <td>69.0</td>\n      <td>Active</td>\n      <td>0</td>\n      <td>0</td>\n    </tr>\n    <tr>\n      <th>2</th>\n      <td>1740877</td>\n      <td>371185</td>\n      <td>-7</td>\n      <td>31815.225</td>\n      <td>450000</td>\n      <td>0.0</td>\n      <td>0.0</td>\n      <td>0.0</td>\n      <td>0.0</td>\n      <td>2250.000</td>\n      <td>2250.0</td>\n      <td>2250.0</td>\n      <td>26926.425</td>\n      <td>31460.085</td>\n      <td>31460.085</td>\n      <td>0.0</td>\n      <td>0</td>\n      <td>0.0</td>\n      <td>0.0</td>\n      <td>30.0</td>\n      <td>Active</td>\n      <td>0</td>\n      <td>0</td>\n    </tr>\n    <tr>\n      <th>3</th>\n      <td>1389973</td>\n      <td>337855</td>\n      <td>-4</td>\n      <td>236572.110</td>\n      <td>225000</td>\n      <td>2250.0</td>\n      <td>2250.0</td>\n      <td>0.0</td>\n      <td>0.0</td>\n      <td>11795.760</td>\n      <td>11925.0</td>\n      <td>11925.0</td>\n      <td>224949.285</td>\n      <td>233048.970</td>\n      <td>233048.970</td>\n      <td>1.0</td>\n      <td>1</td>\n      <td>0.0</td>\n      <td>0.0</td>\n      <td>10.0</td>\n      <td>Active</td>\n      <td>0</td>\n      <td>0</td>\n    </tr>\n    <tr>\n      <th>4</th>\n      <td>1891521</td>\n      <td>126868</td>\n      <td>-1</td>\n      <td>453919.455</td>\n      <td>450000</td>\n      <td>0.0</td>\n      <td>11547.0</td>\n      <td>0.0</td>\n      <td>11547.0</td>\n      <td>22924.890</td>\n      <td>27000.0</td>\n      <td>27000.0</td>\n      <td>443044.395</td>\n      <td>453919.455</td>\n      <td>453919.455</td>\n      <td>0.0</td>\n      <td>1</td>\n      <td>0.0</td>\n      <td>1.0</td>\n      <td>101.0</td>\n      <td>Active</td>\n      <td>0</td>\n      <td>0</td>\n    </tr>\n  </tbody>\n</table>\n</div>"
     },
     "metadata": {},
     "output_type": "execute_result",
     "execution_count": 34
    }
   ],
   "source": [
    "credit_card_balance = pd.read_csv(Path(\"data/credit_card_balance.csv\"), nrows = None)\n",
    "credit_card_balance.head()"
   ],
   "metadata": {
    "collapsed": false,
    "pycharm": {
     "name": "#%%\n",
     "is_executing": false
    }
   }
  },
  {
   "cell_type": "code",
   "execution_count": 35,
   "outputs": [],
   "source": [
    "credit_card_balance_kategorik = get_kategorik_kolon(credit_card_balance)\n",
    "credit_card_balance = get_dummies(credit_card_balance, credit_card_balance_kategorik)\n"
   ],
   "metadata": {
    "collapsed": false,
    "pycharm": {
     "name": "#%%\n",
     "is_executing": false
    }
   }
  },
  {
   "cell_type": "code",
   "execution_count": 36,
   "outputs": [
    {
     "data": {
      "text/plain": "19"
     },
     "metadata": {},
     "output_type": "execute_result",
     "execution_count": 36
    }
   ],
   "source": [
    "### SK_ID_CURR ile verilen geçmiş başvurların sayısı\n",
    "nb_prevs = credit_card_balance[['SK_ID_CURR', 'SK_ID_PREV']].groupby('SK_ID_CURR').count()\n",
    "credit_card_balance['SK_ID_PREV'] = credit_card_balance['SK_ID_CURR'].map(nb_prevs['SK_ID_PREV'])\n",
    "\n",
    "### diğer kolonların ortalaması \n",
    "credit_card_balance_ort = credit_card_balance.groupby('SK_ID_CURR').mean()\n",
    "credit_card_balance_ort.columns = ['cc_bal_' + f_ for f_ in credit_card_balance_ort.columns]\n",
    "df = df.merge(right=credit_card_balance_ort.reset_index(), how='left', on='SK_ID_CURR')\n",
    "\n",
    "\n",
    "\n",
    "\n",
    "### ********* ###\n",
    "df.to_csv('birlestirilmis_data.csv', index= False)\n",
    "### ********* ###\n",
    "\n",
    "\n",
    "del credit_card_balance, credit_card_balance_ort, df\n",
    "gc.collect()"
   ],
   "metadata": {
    "collapsed": false,
    "pycharm": {
     "name": "#%%\n",
     "is_executing": false
    }
   }
  },
  {
   "cell_type": "markdown",
   "source": [
    "# <font color='#BF4E51'>>>>> verinin analizi son <<<< </font>\n",
    "### <font color='#3A9CA1'>•••••••••••••••••••••••••••••••••••••••••••••••••••••••••••••••••••••••••••••••••••••••••••••••••••••••••••••</font>"
   ],
   "metadata": {
    "collapsed": false,
    "pycharm": {
     "name": "#%% md\n"
    }
   }
  }
 ],
 "metadata": {
  "kernelspec": {
   "display_name": "Python 3",
   "language": "python",
   "name": "python3"
  },
  "language_info": {
   "codemirror_mode": {
    "name": "ipython",
    "version": 2
   },
   "file_extension": ".py",
   "mimetype": "text/x-python",
   "name": "python",
   "nbconvert_exporter": "python",
   "pygments_lexer": "ipython2",
   "version": "2.7.6"
  },
  "pycharm": {
   "stem_cell": {
    "cell_type": "raw",
    "source": [],
    "metadata": {
     "collapsed": false
    }
   }
  }
 },
 "nbformat": 4,
 "nbformat_minor": 0
}